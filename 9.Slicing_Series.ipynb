{
 "cells": [
  {
   "cell_type": "markdown",
   "id": "2551de72",
   "metadata": {},
   "source": [
    "# Tricks to slice a series into subset"
   ]
  },
  {
   "cell_type": "code",
   "execution_count": 4,
   "id": "d321615e",
   "metadata": {},
   "outputs": [],
   "source": [
    "import pandas as pd\n",
    "import matplotlib.pyplot as plt"
   ]
  },
  {
   "cell_type": "code",
   "execution_count": 5,
   "id": "11a52967",
   "metadata": {},
   "outputs": [
    {
     "name": "stdout",
     "output_type": "stream",
     "text": [
      "Index Values:\n",
      " Int64Index([1961, 1962, 1963, 1964, 1965, 1966, 1967, 1968, 1969, 1970, 1971,\n",
      "            1972, 1973, 1974, 1975, 1976, 1977, 1978, 1979, 1980, 1981, 1982,\n",
      "            1983, 1984, 1985, 1986, 1987, 1988, 1989, 1990, 1991, 1992, 1993,\n",
      "            1994, 1995, 1996, 1997, 1998, 1999, 2000, 2001, 2002, 2003, 2004,\n",
      "            2005, 2006, 2007, 2008, 2009, 2010, 2011, 2012, 2013, 2014, 2015,\n",
      "            2016, 2017, 2018, 2019, 2020],\n",
      "           dtype='int64', name='Year')\n",
      "\n",
      " The Series is:\n",
      " Year\n",
      "1961     163000\n",
      "1962     161000\n",
      "1963     174000\n",
      "1964     206000\n",
      "1965     190000\n",
      "1966     175000\n",
      "1967     175000\n",
      "1968     172000\n",
      "1969     204000\n",
      "1970     251700\n",
      "1971     258900\n",
      "1972     204000\n",
      "1973     240400\n",
      "1974     249400\n",
      "1975     242300\n",
      "1976     225400\n",
      "1977     357900\n",
      "1978     335700\n",
      "1979     325600\n",
      "1980     321200\n",
      "1981     336500\n",
      "1982     327300\n",
      "1983     376000\n",
      "1984     379100\n",
      "1985     484200\n",
      "1986     502400\n",
      "1987     607000\n",
      "1988     513000\n",
      "1989     609100\n",
      "1990     562900\n",
      "1991     531700\n",
      "1992     591900\n",
      "1993     911100\n",
      "1994     815000\n",
      "1995     659000\n",
      "1996     785000\n",
      "1997     795000\n",
      "1998     890300\n",
      "1999     907800\n",
      "2000     945600\n",
      "2001     882200\n",
      "2002     738800\n",
      "2003     954700\n",
      "2004     966100\n",
      "2005    1075100\n",
      "2006    1020000\n",
      "2007    1104000\n",
      "2008    1063000\n",
      "2009    1029700\n",
      "2010    1474900\n",
      "2011    1699790\n",
      "2012    1496990\n",
      "2013    1500488\n",
      "2014    1504000\n",
      "2015    1292000\n",
      "2016    1528000\n",
      "2017    1592000\n",
      "2018    1364000\n",
      "2019    1434000\n",
      "2020    1499826\n",
      "Name: Production, dtype: int64\n",
      "<class 'pandas.core.series.Series'>\n"
     ]
    }
   ],
   "source": [
    "data  = pd.read_csv(\"spice.csv\", header =0, index_col = 0)\n",
    "my_series = data[\"Production\"].squeeze()\n",
    "print(\"Index Values:\\n\" , my_series.index)\n",
    "print(\"\\n The Series is:\\n\", my_series)\n",
    "print(type(my_series))"
   ]
  },
  {
   "cell_type": "markdown",
   "id": "114af07b",
   "metadata": {},
   "source": [
    "### Slicing of Series"
   ]
  },
  {
   "cell_type": "code",
   "execution_count": 6,
   "id": "30156978",
   "metadata": {},
   "outputs": [
    {
     "name": "stdout",
     "output_type": "stream",
     "text": [
      "Year\n",
      "1973    240400\n",
      "1975    242300\n",
      "1977    357900\n",
      "1979    325600\n",
      "Name: Production, dtype: int64\n",
      "Year\n",
      "1961    163000\n",
      "1962    161000\n",
      "1963    174000\n",
      "1964    206000\n",
      "1965    190000\n",
      "1966    175000\n",
      "1967    175000\n",
      "1968    172000\n",
      "1969    204000\n",
      "1970    251700\n",
      "1971    258900\n",
      "1972    204000\n",
      "1973    240400\n",
      "1974    249400\n",
      "1975    242300\n",
      "Name: Production, dtype: int64\n",
      "Year\n",
      "2006    1020000\n",
      "2007    1104000\n",
      "2008    1063000\n",
      "2009    1029700\n",
      "2010    1474900\n",
      "2011    1699790\n",
      "2012    1496990\n",
      "2013    1500488\n",
      "2014    1504000\n",
      "2015    1292000\n",
      "Name: Production, dtype: int64\n",
      "Year\n",
      "2016    1528000\n",
      "2017    1592000\n",
      "2018    1364000\n",
      "2019    1434000\n",
      "2020    1499826\n",
      "Name: Production, dtype: int64\n",
      "Year\n",
      "1961    163000\n",
      "1962    161000\n",
      "1963    174000\n",
      "1964    206000\n",
      "1965    190000\n",
      "1966    175000\n",
      "1967    175000\n",
      "1968    172000\n",
      "1969    204000\n",
      "1970    251700\n",
      "Name: Production, dtype: int64\n",
      "Year\n",
      "1961    163000\n",
      "1963    174000\n",
      "1965    190000\n",
      "1967    175000\n",
      "1969    204000\n",
      "1971    258900\n",
      "1973    240400\n",
      "1975    242300\n",
      "Name: Production, dtype: int64\n"
     ]
    }
   ],
   "source": [
    "print(my_series[12:20:2])\n",
    "print(my_series[0:15:1])\n",
    "print(my_series[45:55])\n",
    "print(my_series[55:])\n",
    "print(my_series[:10])\n",
    "print(my_series[:15:2])"
   ]
  },
  {
   "cell_type": "code",
   "execution_count": 7,
   "id": "d4d018b5",
   "metadata": {},
   "outputs": [
    {
     "name": "stdout",
     "output_type": "stream",
     "text": [
      "Year\n",
      "1961    163000\n",
      "1962    161000\n",
      "1963    174000\n",
      "1964    206000\n",
      "1965    190000\n",
      "1966    175000\n",
      "1967    175000\n",
      "1968    172000\n",
      "1969    204000\n",
      "1970    251700\n",
      "Name: Production, dtype: int64\n",
      "Year\n",
      "1971    258900\n",
      "1972    204000\n",
      "1973    240400\n",
      "1974    249400\n",
      "1975    242300\n",
      "1976    225400\n",
      "1977    357900\n",
      "1978    335700\n",
      "1979    325600\n",
      "1980    321200\n",
      "Name: Production, dtype: int64\n",
      "Year\n",
      "1981    336500\n",
      "1982    327300\n",
      "1983    376000\n",
      "1984    379100\n",
      "1985    484200\n",
      "1986    502400\n",
      "1987    607000\n",
      "1988    513000\n",
      "1989    609100\n",
      "1990    562900\n",
      "Name: Production, dtype: int64\n",
      "Year\n",
      "1991    531700\n",
      "1992    591900\n",
      "1993    911100\n",
      "1994    815000\n",
      "1995    659000\n",
      "1996    785000\n",
      "1997    795000\n",
      "1998    890300\n",
      "1999    907800\n",
      "2000    945600\n",
      "Name: Production, dtype: int64\n",
      "Year\n",
      "2001     882200\n",
      "2002     738800\n",
      "2003     954700\n",
      "2004     966100\n",
      "2005    1075100\n",
      "2006    1020000\n",
      "2007    1104000\n",
      "2008    1063000\n",
      "2009    1029700\n",
      "2010    1474900\n",
      "2011    1699790\n",
      "2012    1496990\n",
      "2013    1500488\n",
      "2014    1504000\n",
      "2015    1292000\n",
      "2016    1528000\n",
      "2017    1592000\n",
      "2018    1364000\n",
      "2019    1434000\n",
      "2020    1499826\n",
      "Name: Production, dtype: int64\n"
     ]
    }
   ],
   "source": [
    "first = my_series[0:10]\n",
    "print(first)\n",
    "sec = my_series[10:20:1]\n",
    "print(sec)\n",
    "third = my_series[20:30]\n",
    "print(third)\n",
    "fourth = my_series[30:40]\n",
    "print(fourth)\n",
    "fifth = my_series[40::1]\n",
    "print(fifth)"
   ]
  },
  {
   "cell_type": "code",
   "execution_count": 8,
   "id": "d8205d4f",
   "metadata": {},
   "outputs": [
    {
     "data": {
      "text/plain": [
       "[187170.0, 276080.0, 469750.0, 783240.0, 1260979.7]"
      ]
     },
     "execution_count": 8,
     "metadata": {},
     "output_type": "execute_result"
    }
   ],
   "source": [
    "l1 = [first.mean(), sec.mean(), third.mean(), fourth.mean(), fifth.mean()]\n",
    "l1"
   ]
  },
  {
   "cell_type": "code",
   "execution_count": 9,
   "id": "b14ba900",
   "metadata": {},
   "outputs": [
    {
     "data": {
      "image/png": "[encoded data removed]",
      "text/plain": [
       "<Figure size 432x288 with 1 Axes>"
      ]
     },
     "metadata": {},
     "output_type": "display_data"
    }
   ],
   "source": [
    "plt.title(\"Production of Spices in tonnes every 10 years\")\n",
    "years = [\"1961-1970\", \"1971-1980\", \"1981-1990\",\"1991-2000\", \"2001-2020\"]\n",
    "plt.pie(l1, labels = years,autopct=\"%2.2f%%\")\n",
    "plt.show()"
   ]
  },
  {
   "cell_type": "code",
   "execution_count": null,
   "id": "4ee27d1f",
   "metadata": {},
   "outputs": [],
   "source": []
  }
 ],
 "metadata": {
  "kernelspec": {
   "display_name": "Python 3 (ipykernel)",
   "language": "python",
   "name": "python3"
  },
  "language_info": {
   "codemirror_mode": {
    "name": "ipython",
    "version": 3
   },
   "file_extension": ".py",
   "mimetype": "text/x-python",
   "name": "python",
   "nbconvert_exporter": "python",
   "pygments_lexer": "ipython3",
   "version": "3.9.7"
  }
 },
 "nbformat": 4,
 "nbformat_minor": 5
}
