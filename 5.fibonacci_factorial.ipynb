{
 "cells": [
  {
   "cell_type": "markdown",
   "id": "e2b44ff1",
   "metadata": {},
   "source": [
    "\n",
    "\n",
    "## Program to Find the Fibonacci and Factorial of a Given Number\n"
   ]
  },
  {
   "cell_type": "code",
   "execution_count": 1,
   "id": "79e2db0c",
   "metadata": {},
   "outputs": [],
   "source": [
    "def fact(x):\n",
    "    if x ==0:\n",
    "        return 1\n",
    "    elif x<0:\n",
    "        return -x * -(fact(x+1)) #For negative integers\n",
    "    else:\n",
    "        print(x,\" x \",end = \" \")\n",
    "        return x * fact(x-1)\n",
    "    \n",
    "def fib(terms):\n",
    "    if terms ==1:\n",
    "        return [0]\n",
    "    else:\n",
    "        series = [0,1]\n",
    "        for i in range(1,terms-1):\n",
    "            series.append(series[i]+series[i-1])\n",
    "        return series\n",
    "\n",
    "def main():\n",
    "    print(\"\\n**********PROGRAM TO FIND FIBONACCI SEQUENCE AND THE FACTORIAL OF A GIVEN NUMBER*********** \")\n",
    "    num =  int(input(\"Enter a number: \"))\n",
    "    if num>0: #both factorial and fibonacci sequences are called.\n",
    "        print(\"-----------------------------------------------------------------------------------------------\")\n",
    "        print(\"The factorial of\", num, \"is \", end = \" \")\n",
    "        print(f\"=\", fact(num))\n",
    "        print(f\"The fibonacci sequence of first {num} terms is: \",fib(num))\n",
    "        print(\"-----------------------------------------------------------------------------------------------\")\n",
    "    else: #Only factorial is called for numbers less than or equal to 0\n",
    "        print(\"-----------------------------------------------------------------------------------------------\")\n",
    "        print(\"The factorial of\", num, \"is \", end = \" \")\n",
    "        print(f\"=\", fact(num))\n",
    "        print(\"Invalid number of terms for fibonacci sequence!!\")\n",
    "        print(\"-----------------------------------------------------------------------------------------------\")\n",
    "    loop()\n",
    "    \n",
    "def loop():\n",
    "    choice = input(\"\\nDo you wish to continue(yes/no)?: \").lower()\n",
    "    if choice =='yes':\n",
    "        main()\n",
    "    else:\n",
    "        print(\"Thank You:\")\n",
    "        \n",
    "        \n"
   ]
  },
  {
   "cell_type": "code",
   "execution_count": 2,
   "id": "d07f30f2",
   "metadata": {},
   "outputs": [
    {
     "name": "stdout",
     "output_type": "stream",
     "text": [
      "\n",
      "**********PROGRAM TO FIND FIBONACCI SEQUENCE AND THE FACTORIAL OF A GIVEN NUMBER*********** \n",
      "Enter a number: 6\n",
      "-----------------------------------------------------------------------------------------------\n",
      "The factorial of 6 is  6  x  5  x  4  x  3  x  2  x  1  x  = 720\n",
      "The fibonacci sequence of first 6 terms is:  [0, 1, 1, 2, 3, 5]\n",
      "-----------------------------------------------------------------------------------------------\n",
      "\n",
      "Do you wish to continue(yes/no)?: yes\n",
      "\n",
      "**********PROGRAM TO FIND FIBONACCI SEQUENCE AND THE FACTORIAL OF A GIVEN NUMBER*********** \n",
      "Enter a number: 0\n",
      "-----------------------------------------------------------------------------------------------\n",
      "The factorial of 0 is  = 1\n",
      "Invalid number of terms for fibonacci sequence!!\n",
      "-----------------------------------------------------------------------------------------------\n",
      "\n",
      "Do you wish to continue(yes/no)?: no\n",
      "Thank You:\n"
     ]
    }
   ],
   "source": [
    "main()"
   ]
  },
  {
   "cell_type": "code",
   "execution_count": null,
   "id": "6213e82e",
   "metadata": {},
   "outputs": [],
   "source": []
  }
 ],
 "metadata": {
  "kernelspec": {
   "display_name": "Python 3 (ipykernel)",
   "language": "python",
   "name": "python3"
  },
  "language_info": {
   "codemirror_mode": {
    "name": "ipython",
    "version": 3
   },
   "file_extension": ".py",
   "mimetype": "text/x-python",
   "name": "python",
   "nbconvert_exporter": "python",
   "pygments_lexer": "ipython3",
   "version": "3.9.7"
  }
 },
 "nbformat": 4,
 "nbformat_minor": 5
}
