{
 "cells": [
  {
   "cell_type": "markdown",
   "id": "d9ef48a8",
   "metadata": {},
   "source": [
    "\n",
    "## Program to Check if a Given Number is Armstrong Number or Not"
   ]
  },
  {
   "cell_type": "code",
   "execution_count": 62,
   "id": "18d537cf",
   "metadata": {},
   "outputs": [],
   "source": [
    "def main():\n",
    "    print(\"****PROGRAM TO CHECK IF A NUMBER IS ARMSTRONG NUMBER OR NOT***\")\n",
    "    print()\n",
    "    print((\"Armstrong Number is a number that is sum of its own digits each raised to the power of the number of digits\\n\"))\n",
    "    dig=0\n",
    "    result=0\n",
    "    \n",
    "    num = int(input(\"Enter a number: \"))\n",
    "    if num<0:\n",
    "        print(\"Enter positive integers!!\")\n",
    "        check()\n",
    "    num1 = num #Assigning the value of input to num1 and temp, so that original values doesn't change. \n",
    "    temp = num\n",
    "    a = [] \n",
    "    while num!=0: #First while to count the number of digits\n",
    "        num = (num//10)\n",
    "        dig=dig+1; \n",
    "        \n",
    "    while num1!=0: #Second while loop for checking the condition of armstrong numbers\n",
    "        num=num1%10\n",
    "        result=result+pow(num,dig)\n",
    "\n",
    "        num1=num1//10\n",
    "        print(num,\"**\",dig,\"=\",num**dig) \n",
    "        a.append(num**dig) #To append the values so that sum of those digits could be found.\n",
    "\n",
    "\n",
    "\n",
    "    if temp==result:\n",
    "        print(\"\\nThe number of digits in\", temp,\"is: \", dig)\n",
    "        print(\"The sum of its own digits of \",temp,\"each raised to the power of\",dig,\"is also \",sum(a))\n",
    "        print(temp, \"is an Armstrong Number\")\n",
    "    else:\n",
    "        print(\"The number of digits in\", temp,\"is: \", dig)\n",
    "        print(\"The sum of its own digits of \",temp,\"each raised to the power of\",dig,\"is \",sum(a),\",therefore \", end =\"\" )\n",
    "        print(temp,\" is not an Armstrong Number\")\n",
    "    check()\n",
    "\n",
    "\n",
    "def check():\n",
    "    print(\"**************************************************************************************\")\n",
    "    answer = input(\"\\nDo you wish to check another number?(Yes/No) \").lower()\n",
    "    if answer == \"yes\":\n",
    "        main()\n",
    "    else:\n",
    "        print(\"Thank You\")\n"
   ]
  },
  {
   "cell_type": "code",
   "execution_count": 63,
   "id": "f7a47f3f",
   "metadata": {},
   "outputs": [
    {
     "name": "stdout",
     "output_type": "stream",
     "text": [
      "****PROGRAM TO CHECK IF A NUMBER IS ARMSTRONG NUMBER OR NOT***\n",
      "\n",
      "Armstrong Number is a number that is sum of its own digits each raised to the power of the number of digits\n",
      "\n",
      "Enter a number: 0\n",
      "\n",
      "The number of digits in 0 is:  0\n",
      "The sum of its own digits of  0 each raised to the power of 0 is also  0\n",
      "0 is an Armstrong Number\n",
      "**************************************************************************************\n",
      "\n",
      "Do you wish to check another number?(Yes/No) yes\n",
      "****PROGRAM TO CHECK IF A NUMBER IS ARMSTRONG NUMBER OR NOT***\n",
      "\n",
      "Armstrong Number is a number that is sum of its own digits each raised to the power of the number of digits\n",
      "\n",
      "Enter a number: 153\n",
      "3 ** 3 = 27\n",
      "5 ** 3 = 125\n",
      "1 ** 3 = 1\n",
      "\n",
      "The number of digits in 153 is:  3\n",
      "The sum of its own digits of  153 each raised to the power of 3 is also  153\n",
      "153 is an Armstrong Number\n",
      "**************************************************************************************\n",
      "\n",
      "Do you wish to check another number?(Yes/No) YES\n",
      "****PROGRAM TO CHECK IF A NUMBER IS ARMSTRONG NUMBER OR NOT***\n",
      "\n",
      "Armstrong Number is a number that is sum of its own digits each raised to the power of the number of digits\n",
      "\n",
      "Enter a number: 8028\n",
      "8 ** 4 = 4096\n",
      "2 ** 4 = 16\n",
      "0 ** 4 = 0\n",
      "8 ** 4 = 4096\n",
      "The number of digits in 8028 is:  4\n",
      "The sum of its own digits of  8028 each raised to the power of 4 is  8208 ,therefore 8028  is not an Armstrong Number\n",
      "**************************************************************************************\n",
      "\n",
      "Do you wish to check another number?(Yes/No) yes\n",
      "****PROGRAM TO CHECK IF A NUMBER IS ARMSTRONG NUMBER OR NOT***\n",
      "\n",
      "Armstrong Number is a number that is sum of its own digits each raised to the power of the number of digits\n",
      "\n",
      "Enter a number: 1023\n",
      "3 ** 4 = 81\n",
      "2 ** 4 = 16\n",
      "0 ** 4 = 0\n",
      "1 ** 4 = 1\n",
      "The number of digits in 1023 is:  4\n",
      "The sum of its own digits of  1023 each raised to the power of 4 is  98 ,therefore 1023  is not an Armstrong Number\n",
      "**************************************************************************************\n",
      "\n",
      "Do you wish to check another number?(Yes/No) no\n",
      "Thank You\n"
     ]
    }
   ],
   "source": [
    "main()"
   ]
  },
  {
   "cell_type": "code",
   "execution_count": null,
   "id": "ae092b15",
   "metadata": {},
   "outputs": [],
   "source": []
  },
  {
   "cell_type": "markdown",
   "id": "4ee60144",
   "metadata": {},
   "source": [
    "## Program to print the Armstrong Numbers in a given range"
   ]
  },
  {
   "cell_type": "code",
   "execution_count": 1,
   "id": "1adf086a",
   "metadata": {},
   "outputs": [],
   "source": [
    "from tabulate import tabulate\n",
    "def main():\n",
    "    start = int(input(\"Enter the starting range: \"))\n",
    "    stop = int(input(\"Enter the stopping range: \"))\n",
    "    if start==stop or stop<0:\n",
    "        print(\"Invalid Range!!\")\n",
    "    a = [] #list that consists of all the armstrong numbers\n",
    "    for num in range(start,stop+1,1):\n",
    "\n",
    "        dig=0\n",
    "        result=0\n",
    "        num1 = num #Assigning the value of input to num1 and temp, so that original values doesn't change. \n",
    "        temp = num\n",
    "        while num>0: #First while to count the number of digits\n",
    "            num = (num//10)\n",
    "            dig=dig+1\n",
    "        while num1>0: #Second while loop for checking the condition of armstrong numbers\n",
    "            num=num1%10\n",
    "            result=result+pow(num,dig)\n",
    "            num1=num1//10\n",
    "        if temp==result:\n",
    "            a.append(temp)\n",
    "    if len(a) ==0:\n",
    "        print(f\"No armstrong numbers exist between {start} and {stop}\")\n",
    "    else:\n",
    "        table = [[\"Armstrong Numbers\"],[a]]\n",
    "        print(tabulate(table))\n",
    "        print(f\"Total Armstrong Numbers between {start} and {stop}: \", len(a))\n",
    "    check()\n",
    "\n",
    "\n",
    "def check():\n",
    "    print(\"**************************************************************************************\")\n",
    "    answer = input(\"\\nDo you wish to check another number?(Yes/No) \").lower()\n",
    "    if answer == \"yes\":\n",
    "        main()\n",
    "    else:\n",
    "        print(\"Thank You\")"
   ]
  },
  {
   "cell_type": "code",
   "execution_count": 3,
   "id": "ef7b30f9",
   "metadata": {},
   "outputs": [
    {
     "name": "stdout",
     "output_type": "stream",
     "text": [
      "Enter the starting range: 10\n",
      "Enter the stopping range: 10000\n",
      "--------------------------------------\n",
      "Armstrong Numbers\n",
      "[153, 370, 371, 407, 1634, 8208, 9474]\n",
      "--------------------------------------\n",
      "Total Armstrong Numbers between 10 and 10000:  7\n",
      "**************************************************************************************\n",
      "\n",
      "Do you wish to check another number?(Yes/No) yes\n",
      "Enter the starting range: 10\n",
      "Enter the stopping range: 10\n",
      "Invalid Range!!\n",
      "No armstrong numbers exist between 10 and 10\n",
      "**************************************************************************************\n",
      "\n",
      "Do you wish to check another number?(Yes/No) no\n",
      "Thank You\n"
     ]
    }
   ],
   "source": [
    "main()"
   ]
  },
  {
   "cell_type": "code",
   "execution_count": null,
   "id": "5b3670db",
   "metadata": {},
   "outputs": [],
   "source": []
  }
 ],
 "metadata": {
  "kernelspec": {
   "display_name": "Python 3 (ipykernel)",
   "language": "python",
   "name": "python3"
  },
  "language_info": {
   "codemirror_mode": {
    "name": "ipython",
    "version": 3
   },
   "file_extension": ".py",
   "mimetype": "text/x-python",
   "name": "python",
   "nbconvert_exporter": "python",
   "pygments_lexer": "ipython3",
   "version": "3.9.7"
  }
 },
 "nbformat": 4,
 "nbformat_minor": 5
}
