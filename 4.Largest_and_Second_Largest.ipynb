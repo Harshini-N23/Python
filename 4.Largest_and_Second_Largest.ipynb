{
 "cells": [
  {
   "cell_type": "markdown",
   "id": "13c9a6ae",
   "metadata": {},
   "source": [
    "\n",
    "##  Program to Find the Largest and the Second Largest Element"
   ]
  },
  {
   "cell_type": "markdown",
   "id": "b3d728d9",
   "metadata": {},
   "source": [
    "# Method 1"
   ]
  },
  {
   "cell_type": "code",
   "execution_count": null,
   "id": "4bcb648e",
   "metadata": {},
   "outputs": [],
   "source": [
    "print(\"*****Largest and Second Largest Element*****\\n\")\n",
    "n = int(input(\"Enter the number of times you want to find the largest and second largest element: \"))\n",
    "for i in range(n):\n",
    "        N1= float(input(\"\\nEnter the first number: \"))\n",
    "        N2= float(input(\"Enter the second number: \"))\n",
    "        N3= float(input(\"Enter the third number: \"))\n",
    "        \n",
    "        if N1==N2 and N1==N3 and N2==N3:\n",
    "            print(\"All Three Numbers Are Equal\")\n",
    "            print(\"*******************************************************\")\n",
    "        else:\n",
    "            if (N1>=N2) and (N1>=N3):\n",
    "                largest= N1\n",
    "                if N2>N3:\n",
    "                    second_largest = N2\n",
    "                else:\n",
    "                    second_largest = N3\n",
    "\n",
    "            if (N2>=N1) and (N2>=N3):\n",
    "                largest=N2\n",
    "                if N1>N3:\n",
    "                    second_largest = N1\n",
    "                else: \n",
    "                    second_largest = N3\n",
    "\n",
    "            if (N3>=N1) and (N3>=N2):\n",
    "                largest= N3\n",
    "                if N1>N2:\n",
    "                    second_largest = N1\n",
    "                else:\n",
    "                    second_largest = N2\n",
    "\n",
    "            print(\"\\nThe Largest Number is\",largest)\n",
    "            print(\"The Second Largest Number is\", second_largest)\n",
    "            print(\"*******************************************************\")"
   ]
  },
  {
   "cell_type": "markdown",
   "id": "1017cf3a",
   "metadata": {},
   "source": [
    "# Method 2"
   ]
  },
  {
   "cell_type": "code",
   "execution_count": 4,
   "id": "10a3bca4",
   "metadata": {},
   "outputs": [
    {
     "name": "stdout",
     "output_type": "stream",
     "text": [
      "*****Largest and Second Largest Element*****\n",
      "\n",
      "Enter the number of elements in list: 3\n",
      "Enter the elements: \n",
      ">:1\n",
      ">:1\n",
      ">:1\n",
      "The items in list are:  [1.0, 1.0, 1.0]\n",
      "All Elements are Equal\n"
     ]
    }
   ],
   "source": [
    "print(\"*****Largest and Second Largest Element*****\\n\")\n",
    "l = []\n",
    "n = int(input(\"Enter the number of elements in list: \"))\n",
    "if n<2:\n",
    "    print(\"Cannot find the largest and second largest number!!\")\n",
    "else:\n",
    "    print(\"Enter the elements: \") \n",
    "    for i in range(n):\n",
    "        elements = float(input(\">:\"))\n",
    "        l.append(elements)\n",
    "    print(\"The items in list are: \", l)\n",
    "\n",
    "    largest = min(l)\n",
    "    sec_largest = min(l)\n",
    "    ele = l[0]\n",
    "    \n",
    "    check =True # To check if all elements are in list are equal\n",
    "    for i in l:\n",
    "        if ele!=i:\n",
    "            check =False\n",
    "            break\n",
    "    if check==True:\n",
    "        print(\"All Elements are Equal\")\n",
    "        \n",
    "    else: # To obtain largest and second largest\n",
    "        for i in range(0, n):\n",
    "            largest = max(largest, l[i])\n",
    "\n",
    "\n",
    "        for i in range(0, n):\n",
    "            if l[i]!=largest:\n",
    "                sec_largest = max(sec_largest, l[i])\n",
    "        print(\"\\n{} is the largest number\".format(largest))\n",
    "        print(\"{} is the second largest number\".format(sec_largest))"
   ]
  },
  {
   "cell_type": "markdown",
   "id": "f01dcb42",
   "metadata": {},
   "source": [
    "# To find the largest and second largest in three elements"
   ]
  },
  {
   "cell_type": "code",
   "execution_count": 1,
   "id": "d22d5a02",
   "metadata": {},
   "outputs": [
    {
     "name": "stdout",
     "output_type": "stream",
     "text": [
      "*****Largest and Second Largest Element*****\n",
      "\n",
      "Enter the elements: \n",
      ">:12\n",
      ">:25\n",
      ">:65\n",
      "The items in list are:  [12.0, 25.0, 65.0]\n",
      "\n",
      "65.0 is the largest number.\n",
      "25.0 is the second largest number.\n"
     ]
    }
   ],
   "source": [
    "print(\"*****Largest and Second Largest Element*****\\n\")\n",
    "l = []\n",
    "print(\"Enter the elements: \") \n",
    "i =1\n",
    "while i <=3:\n",
    "    elements = float(input(\">:\"))\n",
    "    l.append(elements)\n",
    "    i = i+1\n",
    "print(\"The items in list are: \", l)\n",
    "\n",
    "largest = max(l[0], l[1])\n",
    "sec_largest = min(l[0], l[1])\n",
    "ele = l[0]\n",
    "\n",
    "\n",
    "check =True # To check if all elements are in list are equal\n",
    "for i in l:\n",
    "    if ele!=i:\n",
    "        check =False\n",
    "        break\n",
    "if check==True:\n",
    "    print(\"All Elements are Equal\")\n",
    "\n",
    "else:\n",
    "    for i in range(2, len(l)):\n",
    "        if l[i]>=largest:\n",
    "            sec_largest = largest\n",
    "            largest = l[i]\n",
    "\n",
    "\n",
    "    for i in range(2, len(l)):\n",
    "        if l[i]>=sec_largest and largest != l[i] :\n",
    "            sec_largest =l[i]\n",
    "    print(\"\\n{} is the largest number.\".format(largest))\n",
    "    print(\"{} is the second largest number.\".format(sec_largest))"
   ]
  },
  {
   "cell_type": "code",
   "execution_count": null,
   "id": "199f8ab4",
   "metadata": {},
   "outputs": [],
   "source": []
  }
 ],
 "metadata": {
  "kernelspec": {
   "display_name": "Python 3 (ipykernel)",
   "language": "python",
   "name": "python3"
  },
  "language_info": {
   "codemirror_mode": {
    "name": "ipython",
    "version": 3
   },
   "file_extension": ".py",
   "mimetype": "text/x-python",
   "name": "python",
   "nbconvert_exporter": "python",
   "pygments_lexer": "ipython3",
   "version": "3.9.7"
  }
 },
 "nbformat": 4,
 "nbformat_minor": 5
}
