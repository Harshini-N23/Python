{
 "cells": [
  {
   "cell_type": "markdown",
   "id": "5b17d371",
   "metadata": {},
   "source": [
    "\n",
    "# Program To Extract All the Characters in a String\n"
   ]
  },
  {
   "cell_type": "code",
   "execution_count": 2,
   "id": "6e1fd09f",
   "metadata": {},
   "outputs": [
    {
     "name": "stdout",
     "output_type": "stream",
     "text": [
      "Enter the number of letters to generate a string:5\n",
      "\n",
      "The Generated String is:  k.`GA\n",
      "\n",
      "*********The Generated String Consists of:**********\n",
      "-----------------------------------------------------\n",
      "{'lower_case': ['k']}\n",
      "-----------------------------------------------------\n",
      "{'upper_case': ['G', 'A']}\n",
      "-----------------------------------------------------\n",
      "{'Digits': []}\n",
      "-----------------------------------------------------\n",
      "{'Punctuators': ['.', '`']}\n",
      "-----------------------------------------------------\n",
      "{'Vowels': ['A']}\n",
      "-----------------------------------------------------\n"
     ]
    }
   ],
   "source": [
    "import string\n",
    "import random\n",
    "\n",
    "#String.ascii_lettets - concatenates ascii_lowercase and ascii_uppercase \n",
    "#string.digits - generates a string of numbers: 0123456789\n",
    "#String.punctuation - generates a string of ascii characters which considered punctuation characters\n",
    "\n",
    "num =  int(input(\"Enter the number of letters to generate a string:\"))\n",
    "str1 = \"\".join(random.choices(string.ascii_letters+string.digits+string.punctuation, k=num)) #Generating a random string of lenth K \n",
    "print(\"\\nThe Generated String is: \", str1)\n",
    "\n",
    "lower_case_list = []\n",
    "upper_case_list = []\n",
    "punctuator_list = []\n",
    "digits_list = []\n",
    "vowel_list = []\n",
    "\n",
    "#Storing the result in the form of dictionary\n",
    "low = {\"lower_case\":lower_case_list}\n",
    "up = {\"upper_case\":upper_case_list}\n",
    "punct = {\"Punctuators\": punctuator_list}\n",
    "dig = {\"Digits\":digits_list}\n",
    "vow = {\"Vowels\": vowel_list}\n",
    "vowels = \"aeiouAEIOU\"\n",
    "\n",
    "if len(str1)==0:\n",
    "    print(\"No string has been generated!!\")\n",
    "else:\n",
    "    \n",
    "\n",
    "    for letters in str1: \n",
    "\n",
    "        if letters.isupper():\n",
    "            upper_case_list.append(letters)\n",
    "        if letters.islower():\n",
    "            lower_case_list.append(letters)\n",
    "        if letters.isdigit():\n",
    "            digits_list.append(letters)\n",
    "        if letters in string.punctuation:\n",
    "            punctuator_list.append(letters)\n",
    "        if letters in vowels:\n",
    "            vowel_list.append(letters)\n",
    "    print(\"\\n*********The Generated String Consists of:**********\")\n",
    "    print(\"-----------------------------------------------------\")        \n",
    "    print(low)\n",
    "    print(\"-----------------------------------------------------\")      \n",
    "    print(up)\n",
    "    print(\"-----------------------------------------------------\")      \n",
    "    print(dig)\n",
    "    print(\"-----------------------------------------------------\")      \n",
    "    print(punct)\n",
    "    print(\"-----------------------------------------------------\")      \n",
    "    print(vow)\n",
    "    print(\"-----------------------------------------------------\")      "
   ]
  },
  {
   "cell_type": "code",
   "execution_count": null,
   "id": "84e5e616",
   "metadata": {},
   "outputs": [],
   "source": []
  }
 ],
 "metadata": {
  "kernelspec": {
   "display_name": "Python 3 (ipykernel)",
   "language": "python",
   "name": "python3"
  },
  "language_info": {
   "codemirror_mode": {
    "name": "ipython",
    "version": 3
   },
   "file_extension": ".py",
   "mimetype": "text/x-python",
   "name": "python",
   "nbconvert_exporter": "python",
   "pygments_lexer": "ipython3",
   "version": "3.9.7"
  }
 },
 "nbformat": 4,
 "nbformat_minor": 5
}
