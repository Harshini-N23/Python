{
 "cells": [
  {
   "cell_type": "markdown",
   "id": "46652a7e",
   "metadata": {},
   "source": [
    "\n",
    "\n",
    "# Calculate The Area of Trapezoid and Parallelogram"
   ]
  },
  {
   "cell_type": "markdown",
   "id": "278052ea",
   "metadata": {},
   "source": [
    "#### Description\n",
    "\n",
    "* The Program is a menu driven program, in which the code executes until the user wishes to stop. The user can either calculate the area of Trapezoid or Parallelogram or both for number of times he wishes. \n",
    "**********\n",
    "\n",
    "* In the main() function, the user is given a choice to choose between Trapezoid and Parallelogram, ie the user has to enter either 1 or 0. According to the input, the respective if statements gets executed and results in output. If the user enters a wrong input other than 0 and 1, the program asks him to enter a new input, by calling the main function again. \n",
    "**********\n",
    "*  Once, the user calculates the area of one shape, he can calculate the area of other shape by choosing contiue. I have used a con() function at the end of main() function. The con() function gets executed and incase, the user wishes to continue the program, he can do so by giving Yes/No as input. If the user enters a Yes, the program gets back to the main() function. If the user enters a No, the program calls the stop() functions and stops the execution. If the user enters neither Yes nor No, the program will prompt a message asking to enter proper answers, call gets back to the con() function.\n"
   ]
  },
  {
   "cell_type": "code",
   "execution_count": 1,
   "id": "5c7397f3",
   "metadata": {},
   "outputs": [
    {
     "name": "stdout",
     "output_type": "stream",
     "text": [
      "\n",
      "*****Program to Calculate Area of Trapezoid and Parallelogram*****\n",
      "1.Trapezoid\n",
      "2.Parallelogram\n",
      "\n",
      "Enter your choice: 1\n",
      "\n",
      "**Area of Trapezoid**\n",
      "Area of Trapezoid = ((Base1*Base2)/2)*Height\n",
      "Enter base1 of trapezoid: 10\n",
      "Enter base2 of trapezoid: 12\n",
      "Enter the height of trapezoid: 15\n",
      "\n",
      "The area of Trapezoid with bases 10.0 , 12.0  cm and height 15.0 cm is:  165.0 cm²\n",
      "\n",
      "Do you wish to continue the program?(yes/no): yes\n",
      "\n",
      "*****Program to Calculate Area of Trapezoid and Parallelogram*****\n",
      "1.Trapezoid\n",
      "2.Parallelogram\n",
      "\n",
      "Enter your choice: 2\n",
      "\n",
      "**Area of Parallelogram**\n",
      "Area of Parallelogram = Base*Height\n",
      "Enter the base: 3\n",
      "Enter the height: 9\n",
      "\n",
      "The area of Parallelogram with base 3.0  cm and height 9.0 cm is: 27.0 cm²\n",
      "\n",
      "Do you wish to continue the program?(yes/no): no\n",
      "Thank You:)\n"
     ]
    }
   ],
   "source": [
    "while True:\n",
    "            print(\"\\n*****Program to Calculate Area of Trapezoid and Parallelogram*****\")\n",
    "            print(\"1.Trapezoid\\n2.Parallelogram\")\n",
    "            choice  = int(input(\"\\nEnter your choice: \"))\n",
    "            if choice ==1:\n",
    "                print(\"\\n**Area of Trapezoid**\")\n",
    "                print(\"Area of Trapezoid = ((Base1*Base2)/2)*Height\")\n",
    "                base1 = float(input(\"Enter base1 of trapezoid: \"))\n",
    "                base2 = float(input(\"Enter base2 of trapezoid: \"))\n",
    "                height1 = float(input(\"Enter the height of trapezoid: \"))\n",
    "                area_trapezium = ((base1+base2)/2)*height1\n",
    "                print(\"\\nThe area of Trapezoid with bases\",base1,\",\",base2, \" cm and height\",height1, 'cm is: ', area_trapezium,\"cm\\u00b2\")\n",
    "            elif choice ==2:\n",
    "                print(\"\\n**Area of Parallelogram**\")\n",
    "                print(\"Area of Parallelogram = Base*Height\")\n",
    "                base = float(input(\"Enter the base: \"))\n",
    "                height = float(input(\"Enter the height: \"))\n",
    "                area_par = base*height\n",
    "                print(\"\\nThe area of Parallelogram with base\",base, \" cm and height\", height, \"cm is:\", area_par,\"cm\\u00b2\")\n",
    "            else:\n",
    "                print(\"*ENTER A VALID CHOICE (1/2)\")\n",
    "            \n",
    "            print()\n",
    "            answer= input(\"Do you wish to continue the program?(yes/no): \")\n",
    "            ans = str.lower(answer)\n",
    "            if ans == \"no\":\n",
    "                print(\"Thank You:)\")\n",
    "                break\n",
    "            else:\n",
    "                continue\n",
    "            "
   ]
  },
  {
   "cell_type": "code",
   "execution_count": null,
   "id": "257c29b8",
   "metadata": {},
   "outputs": [],
   "source": []
  }
 ],
 "metadata": {
  "kernelspec": {
   "display_name": "Python 3 (ipykernel)",
   "language": "python",
   "name": "python3"
  },
  "language_info": {
   "codemirror_mode": {
    "name": "ipython",
    "version": 3
   },
   "file_extension": ".py",
   "mimetype": "text/x-python",
   "name": "python",
   "nbconvert_exporter": "python",
   "pygments_lexer": "ipython3",
   "version": "3.9.7"
  }
 },
 "nbformat": 4,
 "nbformat_minor": 5
}
