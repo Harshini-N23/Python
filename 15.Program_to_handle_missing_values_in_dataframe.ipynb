{
 "cells": [
  {
   "cell_type": "markdown",
   "id": "4bd6921b",
   "metadata": {},
   "source": [
    "\n",
    "# Program to handle missing data in Pandas Dataframe"
   ]
  },
  {
   "cell_type": "code",
   "execution_count": 1,
   "id": "bb332957",
   "metadata": {},
   "outputs": [],
   "source": [
    "import pandas as pd\n",
    "import numpy as np"
   ]
  },
  {
   "cell_type": "markdown",
   "id": "e1a51576",
   "metadata": {},
   "source": [
    "### The *Fat* Data consists of the amount of fat that has been accumulated in the Chest, Abdomen, Hip, Thigh, Knee and Forearm which is influencing the weight of an individual."
   ]
  },
  {
   "cell_type": "code",
   "execution_count": 2,
   "id": "374d5c60",
   "metadata": {},
   "outputs": [
    {
     "data": {
      "text/html": [
       "<div>\n",
       "<style scoped>\n",
       "    .dataframe tbody tr th:only-of-type {\n",
       "        vertical-align: middle;\n",
       "    }\n",
       "\n",
       "    .dataframe tbody tr th {\n",
       "        vertical-align: top;\n",
       "    }\n",
       "\n",
       "    .dataframe thead th {\n",
       "        text-align: right;\n",
       "    }\n",
       "</style>\n",
       "<table border=\"1\" class=\"dataframe\">\n",
       "  <thead>\n",
       "    <tr style=\"text-align: right;\">\n",
       "      <th></th>\n",
       "      <th>Weight</th>\n",
       "      <th>Chest</th>\n",
       "      <th>Abdomen</th>\n",
       "      <th>Hip</th>\n",
       "      <th>Thigh</th>\n",
       "      <th>Knee</th>\n",
       "      <th>Forearm</th>\n",
       "    </tr>\n",
       "  </thead>\n",
       "  <tbody>\n",
       "    <tr>\n",
       "      <th>0</th>\n",
       "      <td>154.25</td>\n",
       "      <td>93.1</td>\n",
       "      <td>85.2</td>\n",
       "      <td>94.5</td>\n",
       "      <td>59.0</td>\n",
       "      <td>37.3</td>\n",
       "      <td>27.4</td>\n",
       "    </tr>\n",
       "    <tr>\n",
       "      <th>1</th>\n",
       "      <td>173.25</td>\n",
       "      <td>93.6</td>\n",
       "      <td>83.0</td>\n",
       "      <td>98.7</td>\n",
       "      <td>58.7</td>\n",
       "      <td>37.3</td>\n",
       "      <td>28.9</td>\n",
       "    </tr>\n",
       "    <tr>\n",
       "      <th>2</th>\n",
       "      <td>154.00</td>\n",
       "      <td>95.8</td>\n",
       "      <td>87.9</td>\n",
       "      <td>99.2</td>\n",
       "      <td>59.6</td>\n",
       "      <td>38.9</td>\n",
       "      <td>25.2</td>\n",
       "    </tr>\n",
       "    <tr>\n",
       "      <th>3</th>\n",
       "      <td>184.75</td>\n",
       "      <td>101.8</td>\n",
       "      <td>86.4</td>\n",
       "      <td>101.2</td>\n",
       "      <td>60.1</td>\n",
       "      <td>37.3</td>\n",
       "      <td>29.4</td>\n",
       "    </tr>\n",
       "    <tr>\n",
       "      <th>4</th>\n",
       "      <td>184.25</td>\n",
       "      <td>97.3</td>\n",
       "      <td>100.0</td>\n",
       "      <td>101.9</td>\n",
       "      <td>63.2</td>\n",
       "      <td>42.2</td>\n",
       "      <td>27.7</td>\n",
       "    </tr>\n",
       "    <tr>\n",
       "      <th>...</th>\n",
       "      <td>...</td>\n",
       "      <td>...</td>\n",
       "      <td>...</td>\n",
       "      <td>...</td>\n",
       "      <td>...</td>\n",
       "      <td>...</td>\n",
       "      <td>...</td>\n",
       "    </tr>\n",
       "    <tr>\n",
       "      <th>245</th>\n",
       "      <td>134.25</td>\n",
       "      <td>89.2</td>\n",
       "      <td>83.6</td>\n",
       "      <td>88.8</td>\n",
       "      <td>49.6</td>\n",
       "      <td>34.8</td>\n",
       "      <td>25.7</td>\n",
       "    </tr>\n",
       "    <tr>\n",
       "      <th>246</th>\n",
       "      <td>201.00</td>\n",
       "      <td>108.5</td>\n",
       "      <td>105.0</td>\n",
       "      <td>104.5</td>\n",
       "      <td>59.6</td>\n",
       "      <td>40.8</td>\n",
       "      <td>28.6</td>\n",
       "    </tr>\n",
       "    <tr>\n",
       "      <th>247</th>\n",
       "      <td>186.75</td>\n",
       "      <td>111.1</td>\n",
       "      <td>111.5</td>\n",
       "      <td>101.7</td>\n",
       "      <td>60.3</td>\n",
       "      <td>37.3</td>\n",
       "      <td>27.2</td>\n",
       "    </tr>\n",
       "    <tr>\n",
       "      <th>248</th>\n",
       "      <td>190.75</td>\n",
       "      <td>108.3</td>\n",
       "      <td>101.3</td>\n",
       "      <td>97.8</td>\n",
       "      <td>56.0</td>\n",
       "      <td>41.6</td>\n",
       "      <td>29.4</td>\n",
       "    </tr>\n",
       "    <tr>\n",
       "      <th>249</th>\n",
       "      <td>207.50</td>\n",
       "      <td>112.4</td>\n",
       "      <td>108.5</td>\n",
       "      <td>107.1</td>\n",
       "      <td>59.3</td>\n",
       "      <td>42.2</td>\n",
       "      <td>NaN</td>\n",
       "    </tr>\n",
       "  </tbody>\n",
       "</table>\n",
       "<p>250 rows × 7 columns</p>\n",
       "</div>"
      ],
      "text/plain": [
       "     Weight  Chest  Abdomen    Hip  Thigh  Knee  Forearm\n",
       "0    154.25   93.1     85.2   94.5   59.0  37.3     27.4\n",
       "1    173.25   93.6     83.0   98.7   58.7  37.3     28.9\n",
       "2    154.00   95.8     87.9   99.2   59.6  38.9     25.2\n",
       "3    184.75  101.8     86.4  101.2   60.1  37.3     29.4\n",
       "4    184.25   97.3    100.0  101.9   63.2  42.2     27.7\n",
       "..      ...    ...      ...    ...    ...   ...      ...\n",
       "245  134.25   89.2     83.6   88.8   49.6  34.8     25.7\n",
       "246  201.00  108.5    105.0  104.5   59.6  40.8     28.6\n",
       "247  186.75  111.1    111.5  101.7   60.3  37.3     27.2\n",
       "248  190.75  108.3    101.3   97.8   56.0  41.6     29.4\n",
       "249  207.50  112.4    108.5  107.1   59.3  42.2      NaN\n",
       "\n",
       "[250 rows x 7 columns]"
      ]
     },
     "execution_count": 2,
     "metadata": {},
     "output_type": "execute_result"
    }
   ],
   "source": [
    "df = pd.read_csv(\"fat.txt\", delimiter=\"\\t\", header=0)\n",
    "df"
   ]
  },
  {
   "cell_type": "code",
   "execution_count": 3,
   "id": "2d25dffb",
   "metadata": {},
   "outputs": [
    {
     "data": {
      "text/html": [
       "<div>\n",
       "<style scoped>\n",
       "    .dataframe tbody tr th:only-of-type {\n",
       "        vertical-align: middle;\n",
       "    }\n",
       "\n",
       "    .dataframe tbody tr th {\n",
       "        vertical-align: top;\n",
       "    }\n",
       "\n",
       "    .dataframe thead th {\n",
       "        text-align: right;\n",
       "    }\n",
       "</style>\n",
       "<table border=\"1\" class=\"dataframe\">\n",
       "  <thead>\n",
       "    <tr style=\"text-align: right;\">\n",
       "      <th></th>\n",
       "      <th>Weight</th>\n",
       "      <th>Chest</th>\n",
       "      <th>Abdomen</th>\n",
       "      <th>Hip</th>\n",
       "      <th>Thigh</th>\n",
       "      <th>Knee</th>\n",
       "      <th>Forearm</th>\n",
       "    </tr>\n",
       "  </thead>\n",
       "  <tbody>\n",
       "    <tr>\n",
       "      <th>count</th>\n",
       "      <td>250.000000</td>\n",
       "      <td>248.000000</td>\n",
       "      <td>247.000000</td>\n",
       "      <td>248.000000</td>\n",
       "      <td>247.000000</td>\n",
       "      <td>249.000000</td>\n",
       "      <td>245.000000</td>\n",
       "    </tr>\n",
       "    <tr>\n",
       "      <th>mean</th>\n",
       "      <td>178.083200</td>\n",
       "      <td>100.679435</td>\n",
       "      <td>92.214980</td>\n",
       "      <td>99.652419</td>\n",
       "      <td>59.231579</td>\n",
       "      <td>38.537349</td>\n",
       "      <td>28.674286</td>\n",
       "    </tr>\n",
       "    <tr>\n",
       "      <th>std</th>\n",
       "      <td>27.035488</td>\n",
       "      <td>8.169402</td>\n",
       "      <td>10.222054</td>\n",
       "      <td>6.468897</td>\n",
       "      <td>4.908278</td>\n",
       "      <td>2.317676</td>\n",
       "      <td>2.032914</td>\n",
       "    </tr>\n",
       "    <tr>\n",
       "      <th>min</th>\n",
       "      <td>118.500000</td>\n",
       "      <td>79.300000</td>\n",
       "      <td>69.400000</td>\n",
       "      <td>85.000000</td>\n",
       "      <td>47.200000</td>\n",
       "      <td>33.000000</td>\n",
       "      <td>21.000000</td>\n",
       "    </tr>\n",
       "    <tr>\n",
       "      <th>25%</th>\n",
       "      <td>158.500000</td>\n",
       "      <td>94.350000</td>\n",
       "      <td>84.450000</td>\n",
       "      <td>95.475000</td>\n",
       "      <td>56.000000</td>\n",
       "      <td>36.900000</td>\n",
       "      <td>27.300000</td>\n",
       "    </tr>\n",
       "    <tr>\n",
       "      <th>50%</th>\n",
       "      <td>176.125000</td>\n",
       "      <td>99.600000</td>\n",
       "      <td>90.900000</td>\n",
       "      <td>99.300000</td>\n",
       "      <td>59.000000</td>\n",
       "      <td>38.500000</td>\n",
       "      <td>28.700000</td>\n",
       "    </tr>\n",
       "    <tr>\n",
       "      <th>75%</th>\n",
       "      <td>196.750000</td>\n",
       "      <td>105.300000</td>\n",
       "      <td>99.000000</td>\n",
       "      <td>103.275000</td>\n",
       "      <td>62.200000</td>\n",
       "      <td>39.900000</td>\n",
       "      <td>30.000000</td>\n",
       "    </tr>\n",
       "    <tr>\n",
       "      <th>max</th>\n",
       "      <td>262.750000</td>\n",
       "      <td>128.300000</td>\n",
       "      <td>126.200000</td>\n",
       "      <td>125.600000</td>\n",
       "      <td>74.400000</td>\n",
       "      <td>46.000000</td>\n",
       "      <td>34.900000</td>\n",
       "    </tr>\n",
       "  </tbody>\n",
       "</table>\n",
       "</div>"
      ],
      "text/plain": [
       "           Weight       Chest     Abdomen         Hip       Thigh        Knee  \\\n",
       "count  250.000000  248.000000  247.000000  248.000000  247.000000  249.000000   \n",
       "mean   178.083200  100.679435   92.214980   99.652419   59.231579   38.537349   \n",
       "std     27.035488    8.169402   10.222054    6.468897    4.908278    2.317676   \n",
       "min    118.500000   79.300000   69.400000   85.000000   47.200000   33.000000   \n",
       "25%    158.500000   94.350000   84.450000   95.475000   56.000000   36.900000   \n",
       "50%    176.125000   99.600000   90.900000   99.300000   59.000000   38.500000   \n",
       "75%    196.750000  105.300000   99.000000  103.275000   62.200000   39.900000   \n",
       "max    262.750000  128.300000  126.200000  125.600000   74.400000   46.000000   \n",
       "\n",
       "          Forearm  \n",
       "count  245.000000  \n",
       "mean    28.674286  \n",
       "std      2.032914  \n",
       "min     21.000000  \n",
       "25%     27.300000  \n",
       "50%     28.700000  \n",
       "75%     30.000000  \n",
       "max     34.900000  "
      ]
     },
     "execution_count": 3,
     "metadata": {},
     "output_type": "execute_result"
    }
   ],
   "source": [
    "df.describe()"
   ]
  },
  {
   "cell_type": "markdown",
   "id": "c58edd33",
   "metadata": {},
   "source": [
    "###  To Display the top 5 rows of the data"
   ]
  },
  {
   "cell_type": "code",
   "execution_count": 4,
   "id": "86907403",
   "metadata": {},
   "outputs": [
    {
     "data": {
      "text/html": [
       "<div>\n",
       "<style scoped>\n",
       "    .dataframe tbody tr th:only-of-type {\n",
       "        vertical-align: middle;\n",
       "    }\n",
       "\n",
       "    .dataframe tbody tr th {\n",
       "        vertical-align: top;\n",
       "    }\n",
       "\n",
       "    .dataframe thead th {\n",
       "        text-align: right;\n",
       "    }\n",
       "</style>\n",
       "<table border=\"1\" class=\"dataframe\">\n",
       "  <thead>\n",
       "    <tr style=\"text-align: right;\">\n",
       "      <th></th>\n",
       "      <th>Weight</th>\n",
       "      <th>Chest</th>\n",
       "      <th>Abdomen</th>\n",
       "      <th>Hip</th>\n",
       "      <th>Thigh</th>\n",
       "      <th>Knee</th>\n",
       "      <th>Forearm</th>\n",
       "    </tr>\n",
       "  </thead>\n",
       "  <tbody>\n",
       "    <tr>\n",
       "      <th>0</th>\n",
       "      <td>154.25</td>\n",
       "      <td>93.1</td>\n",
       "      <td>85.2</td>\n",
       "      <td>94.5</td>\n",
       "      <td>59.0</td>\n",
       "      <td>37.3</td>\n",
       "      <td>27.4</td>\n",
       "    </tr>\n",
       "    <tr>\n",
       "      <th>1</th>\n",
       "      <td>173.25</td>\n",
       "      <td>93.6</td>\n",
       "      <td>83.0</td>\n",
       "      <td>98.7</td>\n",
       "      <td>58.7</td>\n",
       "      <td>37.3</td>\n",
       "      <td>28.9</td>\n",
       "    </tr>\n",
       "    <tr>\n",
       "      <th>2</th>\n",
       "      <td>154.00</td>\n",
       "      <td>95.8</td>\n",
       "      <td>87.9</td>\n",
       "      <td>99.2</td>\n",
       "      <td>59.6</td>\n",
       "      <td>38.9</td>\n",
       "      <td>25.2</td>\n",
       "    </tr>\n",
       "    <tr>\n",
       "      <th>3</th>\n",
       "      <td>184.75</td>\n",
       "      <td>101.8</td>\n",
       "      <td>86.4</td>\n",
       "      <td>101.2</td>\n",
       "      <td>60.1</td>\n",
       "      <td>37.3</td>\n",
       "      <td>29.4</td>\n",
       "    </tr>\n",
       "    <tr>\n",
       "      <th>4</th>\n",
       "      <td>184.25</td>\n",
       "      <td>97.3</td>\n",
       "      <td>100.0</td>\n",
       "      <td>101.9</td>\n",
       "      <td>63.2</td>\n",
       "      <td>42.2</td>\n",
       "      <td>27.7</td>\n",
       "    </tr>\n",
       "  </tbody>\n",
       "</table>\n",
       "</div>"
      ],
      "text/plain": [
       "   Weight  Chest  Abdomen    Hip  Thigh  Knee  Forearm\n",
       "0  154.25   93.1     85.2   94.5   59.0  37.3     27.4\n",
       "1  173.25   93.6     83.0   98.7   58.7  37.3     28.9\n",
       "2  154.00   95.8     87.9   99.2   59.6  38.9     25.2\n",
       "3  184.75  101.8     86.4  101.2   60.1  37.3     29.4\n",
       "4  184.25   97.3    100.0  101.9   63.2  42.2     27.7"
      ]
     },
     "execution_count": 4,
     "metadata": {},
     "output_type": "execute_result"
    }
   ],
   "source": [
    "df.head()"
   ]
  },
  {
   "cell_type": "markdown",
   "id": "69392f4a",
   "metadata": {},
   "source": [
    "### To check if the data has missing values we can either use the **info()** function of pandas which results in the number of not null records or use the isnull() function"
   ]
  },
  {
   "cell_type": "code",
   "execution_count": 5,
   "id": "ed9dec0e",
   "metadata": {
    "scrolled": true
   },
   "outputs": [
    {
     "name": "stdout",
     "output_type": "stream",
     "text": [
      "<class 'pandas.core.frame.DataFrame'>\n",
      "RangeIndex: 250 entries, 0 to 249\n",
      "Data columns (total 7 columns):\n",
      " #   Column   Non-Null Count  Dtype  \n",
      "---  ------   --------------  -----  \n",
      " 0   Weight   250 non-null    float64\n",
      " 1   Chest    248 non-null    float64\n",
      " 2   Abdomen  247 non-null    float64\n",
      " 3   Hip      248 non-null    float64\n",
      " 4   Thigh    247 non-null    float64\n",
      " 5   Knee     249 non-null    float64\n",
      " 6   Forearm  245 non-null    float64\n",
      "dtypes: float64(7)\n",
      "memory usage: 13.8 KB\n"
     ]
    }
   ],
   "source": [
    "df.info()"
   ]
  },
  {
   "cell_type": "markdown",
   "id": "9e6bfb73",
   "metadata": {},
   "source": [
    "### We can see that our data consists of 250 values of each attribute, but chest,abdomen,ip, thigh,knee and forearm do not contain 250 values. Therefore we can say that, there are some missing values in the data"
   ]
  },
  {
   "cell_type": "code",
   "execution_count": 6,
   "id": "50ae2445",
   "metadata": {},
   "outputs": [
    {
     "name": "stdout",
     "output_type": "stream",
     "text": [
      "Weight     0\n",
      "Chest      2\n",
      "Abdomen    3\n",
      "Hip        2\n",
      "Thigh      3\n",
      "Knee       1\n",
      "Forearm    5\n",
      "dtype: int64\n"
     ]
    }
   ],
   "source": [
    "print(df.isnull().sum())"
   ]
  },
  {
   "cell_type": "markdown",
   "id": "b64b68aa",
   "metadata": {},
   "source": [
    "### The isnull() gives a boolean value, We have combined it with sum() function so that we get the count of missing values in each columns."
   ]
  },
  {
   "cell_type": "markdown",
   "id": "8e31e918",
   "metadata": {},
   "source": [
    "### Now we have various ways to deal with this missing values:\n",
    "#### 1. dropna()\n",
    "#### 2. fillna()\n",
    "#### 3. replace()\n"
   ]
  },
  {
   "cell_type": "markdown",
   "id": "ea6f043a",
   "metadata": {},
   "source": [
    "## Deleting columns with missing data"
   ]
  },
  {
   "cell_type": "markdown",
   "id": "85085fb5",
   "metadata": {},
   "source": [
    "* If we have a very small amount of data, and the column containing missing values doesn't impact the final result or its dependent variables, then we can delete the column using **dataframe.dropna(axis =1, how =\"any\")** which deletes any column that contains null values or **dataframe.drop([\"Column_Name\"], axis =1)**.\n",
    "***************\n",
    "* In our data, the weight of an individual is dependent on the fat contains in given parts of the body, deleting any column would affect the accuracy of the weight value. Therefore, we try to delete rows which contains least missing values and try to fill in other missing values."
   ]
  },
  {
   "cell_type": "markdown",
   "id": "738197ca",
   "metadata": {},
   "source": [
    "###  First let us display the records with missing values"
   ]
  },
  {
   "cell_type": "code",
   "execution_count": 7,
   "id": "917ed10c",
   "metadata": {},
   "outputs": [
    {
     "data": {
      "text/html": [
       "<div>\n",
       "<style scoped>\n",
       "    .dataframe tbody tr th:only-of-type {\n",
       "        vertical-align: middle;\n",
       "    }\n",
       "\n",
       "    .dataframe tbody tr th {\n",
       "        vertical-align: top;\n",
       "    }\n",
       "\n",
       "    .dataframe thead th {\n",
       "        text-align: right;\n",
       "    }\n",
       "</style>\n",
       "<table border=\"1\" class=\"dataframe\">\n",
       "  <thead>\n",
       "    <tr style=\"text-align: right;\">\n",
       "      <th></th>\n",
       "      <th>Weight</th>\n",
       "      <th>Chest</th>\n",
       "      <th>Abdomen</th>\n",
       "      <th>Hip</th>\n",
       "      <th>Thigh</th>\n",
       "      <th>Knee</th>\n",
       "      <th>Forearm</th>\n",
       "    </tr>\n",
       "  </thead>\n",
       "  <tbody>\n",
       "    <tr>\n",
       "      <th>32</th>\n",
       "      <td>168.00</td>\n",
       "      <td>NaN</td>\n",
       "      <td>79.1</td>\n",
       "      <td>94.5</td>\n",
       "      <td>57.3</td>\n",
       "      <td>36.2</td>\n",
       "      <td>30.0</td>\n",
       "    </tr>\n",
       "    <tr>\n",
       "      <th>40</th>\n",
       "      <td>217.00</td>\n",
       "      <td>113.3</td>\n",
       "      <td>111.2</td>\n",
       "      <td>114.1</td>\n",
       "      <td>NaN</td>\n",
       "      <td>40.9</td>\n",
       "      <td>29.8</td>\n",
       "    </tr>\n",
       "    <tr>\n",
       "      <th>61</th>\n",
       "      <td>178.00</td>\n",
       "      <td>105.3</td>\n",
       "      <td>NaN</td>\n",
       "      <td>99.7</td>\n",
       "      <td>60.8</td>\n",
       "      <td>40.1</td>\n",
       "      <td>29.0</td>\n",
       "    </tr>\n",
       "    <tr>\n",
       "      <th>62</th>\n",
       "      <td>205.50</td>\n",
       "      <td>105.3</td>\n",
       "      <td>NaN</td>\n",
       "      <td>108.3</td>\n",
       "      <td>65.0</td>\n",
       "      <td>41.2</td>\n",
       "      <td>31.1</td>\n",
       "    </tr>\n",
       "    <tr>\n",
       "      <th>69</th>\n",
       "      <td>146.75</td>\n",
       "      <td>88.5</td>\n",
       "      <td>82.8</td>\n",
       "      <td>95.5</td>\n",
       "      <td>58.9</td>\n",
       "      <td>37.6</td>\n",
       "      <td>NaN</td>\n",
       "    </tr>\n",
       "    <tr>\n",
       "      <th>70</th>\n",
       "      <td>160.75</td>\n",
       "      <td>93.6</td>\n",
       "      <td>82.9</td>\n",
       "      <td>96.3</td>\n",
       "      <td>52.9</td>\n",
       "      <td>37.5</td>\n",
       "      <td>NaN</td>\n",
       "    </tr>\n",
       "    <tr>\n",
       "      <th>71</th>\n",
       "      <td>125.00</td>\n",
       "      <td>87.7</td>\n",
       "      <td>76.0</td>\n",
       "      <td>88.6</td>\n",
       "      <td>50.9</td>\n",
       "      <td>35.4</td>\n",
       "      <td>NaN</td>\n",
       "    </tr>\n",
       "    <tr>\n",
       "      <th>107</th>\n",
       "      <td>168.50</td>\n",
       "      <td>97.8</td>\n",
       "      <td>92.3</td>\n",
       "      <td>NaN</td>\n",
       "      <td>57.5</td>\n",
       "      <td>36.8</td>\n",
       "      <td>26.0</td>\n",
       "    </tr>\n",
       "    <tr>\n",
       "      <th>141</th>\n",
       "      <td>159.75</td>\n",
       "      <td>92.1</td>\n",
       "      <td>77.1</td>\n",
       "      <td>93.9</td>\n",
       "      <td>NaN</td>\n",
       "      <td>36.1</td>\n",
       "      <td>27.2</td>\n",
       "    </tr>\n",
       "    <tr>\n",
       "      <th>226</th>\n",
       "      <td>174.50</td>\n",
       "      <td>NaN</td>\n",
       "      <td>NaN</td>\n",
       "      <td>NaN</td>\n",
       "      <td>NaN</td>\n",
       "      <td>NaN</td>\n",
       "      <td>NaN</td>\n",
       "    </tr>\n",
       "    <tr>\n",
       "      <th>249</th>\n",
       "      <td>207.50</td>\n",
       "      <td>112.4</td>\n",
       "      <td>108.5</td>\n",
       "      <td>107.1</td>\n",
       "      <td>59.3</td>\n",
       "      <td>42.2</td>\n",
       "      <td>NaN</td>\n",
       "    </tr>\n",
       "  </tbody>\n",
       "</table>\n",
       "</div>"
      ],
      "text/plain": [
       "     Weight  Chest  Abdomen    Hip  Thigh  Knee  Forearm\n",
       "32   168.00    NaN     79.1   94.5   57.3  36.2     30.0\n",
       "40   217.00  113.3    111.2  114.1    NaN  40.9     29.8\n",
       "61   178.00  105.3      NaN   99.7   60.8  40.1     29.0\n",
       "62   205.50  105.3      NaN  108.3   65.0  41.2     31.1\n",
       "69   146.75   88.5     82.8   95.5   58.9  37.6      NaN\n",
       "70   160.75   93.6     82.9   96.3   52.9  37.5      NaN\n",
       "71   125.00   87.7     76.0   88.6   50.9  35.4      NaN\n",
       "107  168.50   97.8     92.3    NaN   57.5  36.8     26.0\n",
       "141  159.75   92.1     77.1   93.9    NaN  36.1     27.2\n",
       "226  174.50    NaN      NaN    NaN    NaN   NaN      NaN\n",
       "249  207.50  112.4    108.5  107.1   59.3  42.2      NaN"
      ]
     },
     "execution_count": 7,
     "metadata": {},
     "output_type": "execute_result"
    }
   ],
   "source": [
    "df[df.isnull().any(axis=1)]"
   ]
  },
  {
   "cell_type": "markdown",
   "id": "36e221a4",
   "metadata": {},
   "source": [
    "### Deleting rows with missing data"
   ]
  },
  {
   "cell_type": "code",
   "execution_count": 8,
   "id": "5e327eb4",
   "metadata": {},
   "outputs": [
    {
     "data": {
      "text/plain": [
       "Weight     174.5\n",
       "Chest        NaN\n",
       "Abdomen      NaN\n",
       "Hip          NaN\n",
       "Thigh        NaN\n",
       "Knee         NaN\n",
       "Forearm      NaN\n",
       "Name: 226, dtype: float64"
      ]
     },
     "metadata": {},
     "output_type": "display_data"
    }
   ],
   "source": [
    "display(df.iloc[226])"
   ]
  },
  {
   "cell_type": "code",
   "execution_count": 9,
   "id": "8ddc90c6",
   "metadata": {},
   "outputs": [],
   "source": [
    "df.dropna(subset =[\"Knee\"], axis = 0, inplace =True)\n"
   ]
  },
  {
   "cell_type": "markdown",
   "id": "41e89fcf",
   "metadata": {},
   "source": [
    "### Verification"
   ]
  },
  {
   "cell_type": "code",
   "execution_count": 10,
   "id": "46a5bb7e",
   "metadata": {},
   "outputs": [
    {
     "name": "stdout",
     "output_type": "stream",
     "text": [
      "<class 'pandas.core.frame.DataFrame'>\n",
      "Int64Index: 249 entries, 0 to 249\n",
      "Data columns (total 7 columns):\n",
      " #   Column   Non-Null Count  Dtype  \n",
      "---  ------   --------------  -----  \n",
      " 0   Weight   249 non-null    float64\n",
      " 1   Chest    248 non-null    float64\n",
      " 2   Abdomen  247 non-null    float64\n",
      " 3   Hip      248 non-null    float64\n",
      " 4   Thigh    247 non-null    float64\n",
      " 5   Knee     249 non-null    float64\n",
      " 6   Forearm  245 non-null    float64\n",
      "dtypes: float64(7)\n",
      "memory usage: 15.6 KB\n",
      "None\n"
     ]
    }
   ],
   "source": [
    "print(df.info())"
   ]
  },
  {
   "cell_type": "markdown",
   "id": "815c4773",
   "metadata": {},
   "source": [
    "#### Now by using the dropna() function we deleted the record of Knee that contained missing value and verified it through the info() function which displayed only 249 values."
   ]
  },
  {
   "cell_type": "markdown",
   "id": "40987631",
   "metadata": {},
   "source": [
    "### Filling the Missing Values"
   ]
  },
  {
   "cell_type": "markdown",
   "id": "939a8a28",
   "metadata": {},
   "source": [
    "### Filling with a random approximate value\n",
    "### Here I have filled the NaN value of Chest with 64 as it was the approximate value."
   ]
  },
  {
   "cell_type": "code",
   "execution_count": 11,
   "id": "8d93566d",
   "metadata": {},
   "outputs": [
    {
     "data": {
      "text/html": [
       "<div>\n",
       "<style scoped>\n",
       "    .dataframe tbody tr th:only-of-type {\n",
       "        vertical-align: middle;\n",
       "    }\n",
       "\n",
       "    .dataframe tbody tr th {\n",
       "        vertical-align: top;\n",
       "    }\n",
       "\n",
       "    .dataframe thead th {\n",
       "        text-align: right;\n",
       "    }\n",
       "</style>\n",
       "<table border=\"1\" class=\"dataframe\">\n",
       "  <thead>\n",
       "    <tr style=\"text-align: right;\">\n",
       "      <th></th>\n",
       "      <th>Weight</th>\n",
       "      <th>Chest</th>\n",
       "      <th>Abdomen</th>\n",
       "      <th>Hip</th>\n",
       "      <th>Thigh</th>\n",
       "      <th>Knee</th>\n",
       "      <th>Forearm</th>\n",
       "    </tr>\n",
       "  </thead>\n",
       "  <tbody>\n",
       "    <tr>\n",
       "      <th>32</th>\n",
       "      <td>168.00</td>\n",
       "      <td>NaN</td>\n",
       "      <td>79.1</td>\n",
       "      <td>94.5</td>\n",
       "      <td>57.3</td>\n",
       "      <td>36.2</td>\n",
       "      <td>30.0</td>\n",
       "    </tr>\n",
       "    <tr>\n",
       "      <th>227</th>\n",
       "      <td>167.75</td>\n",
       "      <td>98.6</td>\n",
       "      <td>93.0</td>\n",
       "      <td>97.0</td>\n",
       "      <td>55.4</td>\n",
       "      <td>38.8</td>\n",
       "      <td>29.7</td>\n",
       "    </tr>\n",
       "  </tbody>\n",
       "</table>\n",
       "</div>"
      ],
      "text/plain": [
       "     Weight  Chest  Abdomen   Hip  Thigh  Knee  Forearm\n",
       "32   168.00    NaN     79.1  94.5   57.3  36.2     30.0\n",
       "227  167.75   98.6     93.0  97.0   55.4  38.8     29.7"
      ]
     },
     "metadata": {},
     "output_type": "display_data"
    }
   ],
   "source": [
    "display(df.iloc[[32,226]])"
   ]
  },
  {
   "cell_type": "code",
   "execution_count": 12,
   "id": "2a7c2901",
   "metadata": {},
   "outputs": [],
   "source": [
    "df[\"Chest\"] = df[\"Chest\"].fillna(64)"
   ]
  },
  {
   "cell_type": "markdown",
   "id": "798f8b16",
   "metadata": {},
   "source": [
    "### Verification"
   ]
  },
  {
   "cell_type": "code",
   "execution_count": 13,
   "id": "66c7f2c6",
   "metadata": {},
   "outputs": [
    {
     "data": {
      "text/html": [
       "<div>\n",
       "<style scoped>\n",
       "    .dataframe tbody tr th:only-of-type {\n",
       "        vertical-align: middle;\n",
       "    }\n",
       "\n",
       "    .dataframe tbody tr th {\n",
       "        vertical-align: top;\n",
       "    }\n",
       "\n",
       "    .dataframe thead th {\n",
       "        text-align: right;\n",
       "    }\n",
       "</style>\n",
       "<table border=\"1\" class=\"dataframe\">\n",
       "  <thead>\n",
       "    <tr style=\"text-align: right;\">\n",
       "      <th></th>\n",
       "      <th>Weight</th>\n",
       "      <th>Chest</th>\n",
       "      <th>Abdomen</th>\n",
       "      <th>Hip</th>\n",
       "      <th>Thigh</th>\n",
       "      <th>Knee</th>\n",
       "      <th>Forearm</th>\n",
       "    </tr>\n",
       "  </thead>\n",
       "  <tbody>\n",
       "    <tr>\n",
       "      <th>32</th>\n",
       "      <td>168.00</td>\n",
       "      <td>64.0</td>\n",
       "      <td>79.1</td>\n",
       "      <td>94.5</td>\n",
       "      <td>57.3</td>\n",
       "      <td>36.2</td>\n",
       "      <td>30.0</td>\n",
       "    </tr>\n",
       "    <tr>\n",
       "      <th>33</th>\n",
       "      <td>218.50</td>\n",
       "      <td>111.7</td>\n",
       "      <td>100.5</td>\n",
       "      <td>108.3</td>\n",
       "      <td>67.1</td>\n",
       "      <td>44.2</td>\n",
       "      <td>31.5</td>\n",
       "    </tr>\n",
       "    <tr>\n",
       "      <th>34</th>\n",
       "      <td>247.25</td>\n",
       "      <td>117.0</td>\n",
       "      <td>115.6</td>\n",
       "      <td>116.1</td>\n",
       "      <td>71.2</td>\n",
       "      <td>43.3</td>\n",
       "      <td>31.7</td>\n",
       "    </tr>\n",
       "  </tbody>\n",
       "</table>\n",
       "</div>"
      ],
      "text/plain": [
       "    Weight  Chest  Abdomen    Hip  Thigh  Knee  Forearm\n",
       "32  168.00   64.0     79.1   94.5   57.3  36.2     30.0\n",
       "33  218.50  111.7    100.5  108.3   67.1  44.2     31.5\n",
       "34  247.25  117.0    115.6  116.1   71.2  43.3     31.7"
      ]
     },
     "metadata": {},
     "output_type": "display_data"
    }
   ],
   "source": [
    "display(df.iloc[[32,33,34]])"
   ]
  },
  {
   "cell_type": "markdown",
   "id": "ef144b05",
   "metadata": {},
   "source": [
    "### Forward or Backward Fill\n",
    "### Filling in with the previous or succeeding values of a column. \n",
    "###  The missing values of Abdomen have been filled with the previous abdomen values."
   ]
  },
  {
   "cell_type": "code",
   "execution_count": 14,
   "id": "46bf93c6",
   "metadata": {},
   "outputs": [
    {
     "data": {
      "text/html": [
       "<div>\n",
       "<style scoped>\n",
       "    .dataframe tbody tr th:only-of-type {\n",
       "        vertical-align: middle;\n",
       "    }\n",
       "\n",
       "    .dataframe tbody tr th {\n",
       "        vertical-align: top;\n",
       "    }\n",
       "\n",
       "    .dataframe thead th {\n",
       "        text-align: right;\n",
       "    }\n",
       "</style>\n",
       "<table border=\"1\" class=\"dataframe\">\n",
       "  <thead>\n",
       "    <tr style=\"text-align: right;\">\n",
       "      <th></th>\n",
       "      <th>Weight</th>\n",
       "      <th>Chest</th>\n",
       "      <th>Abdomen</th>\n",
       "      <th>Hip</th>\n",
       "      <th>Thigh</th>\n",
       "      <th>Knee</th>\n",
       "      <th>Forearm</th>\n",
       "    </tr>\n",
       "  </thead>\n",
       "  <tbody>\n",
       "    <tr>\n",
       "      <th>60</th>\n",
       "      <td>193.25</td>\n",
       "      <td>107.6</td>\n",
       "      <td>102.4</td>\n",
       "      <td>99.4</td>\n",
       "      <td>61.0</td>\n",
       "      <td>39.4</td>\n",
       "      <td>29.9</td>\n",
       "    </tr>\n",
       "    <tr>\n",
       "      <th>61</th>\n",
       "      <td>178.00</td>\n",
       "      <td>105.3</td>\n",
       "      <td>NaN</td>\n",
       "      <td>99.7</td>\n",
       "      <td>60.8</td>\n",
       "      <td>40.1</td>\n",
       "      <td>29.0</td>\n",
       "    </tr>\n",
       "    <tr>\n",
       "      <th>62</th>\n",
       "      <td>205.50</td>\n",
       "      <td>105.3</td>\n",
       "      <td>NaN</td>\n",
       "      <td>108.3</td>\n",
       "      <td>65.0</td>\n",
       "      <td>41.2</td>\n",
       "      <td>31.1</td>\n",
       "    </tr>\n",
       "    <tr>\n",
       "      <th>63</th>\n",
       "      <td>183.50</td>\n",
       "      <td>103.0</td>\n",
       "      <td>100.3</td>\n",
       "      <td>104.2</td>\n",
       "      <td>64.8</td>\n",
       "      <td>40.2</td>\n",
       "      <td>30.1</td>\n",
       "    </tr>\n",
       "  </tbody>\n",
       "</table>\n",
       "</div>"
      ],
      "text/plain": [
       "    Weight  Chest  Abdomen    Hip  Thigh  Knee  Forearm\n",
       "60  193.25  107.6    102.4   99.4   61.0  39.4     29.9\n",
       "61  178.00  105.3      NaN   99.7   60.8  40.1     29.0\n",
       "62  205.50  105.3      NaN  108.3   65.0  41.2     31.1\n",
       "63  183.50  103.0    100.3  104.2   64.8  40.2     30.1"
      ]
     },
     "metadata": {},
     "output_type": "display_data"
    }
   ],
   "source": [
    "display(df.iloc[[60,61,62,63]])"
   ]
  },
  {
   "cell_type": "code",
   "execution_count": 15,
   "id": "139de286",
   "metadata": {},
   "outputs": [],
   "source": [
    "df[\"Abdomen\"] = df[\"Abdomen\"].fillna(method = \"bfill\")"
   ]
  },
  {
   "cell_type": "markdown",
   "id": "d2d3c2df",
   "metadata": {},
   "source": [
    "### verification"
   ]
  },
  {
   "cell_type": "code",
   "execution_count": 16,
   "id": "5021015b",
   "metadata": {},
   "outputs": [
    {
     "data": {
      "text/html": [
       "<div>\n",
       "<style scoped>\n",
       "    .dataframe tbody tr th:only-of-type {\n",
       "        vertical-align: middle;\n",
       "    }\n",
       "\n",
       "    .dataframe tbody tr th {\n",
       "        vertical-align: top;\n",
       "    }\n",
       "\n",
       "    .dataframe thead th {\n",
       "        text-align: right;\n",
       "    }\n",
       "</style>\n",
       "<table border=\"1\" class=\"dataframe\">\n",
       "  <thead>\n",
       "    <tr style=\"text-align: right;\">\n",
       "      <th></th>\n",
       "      <th>Weight</th>\n",
       "      <th>Chest</th>\n",
       "      <th>Abdomen</th>\n",
       "      <th>Hip</th>\n",
       "      <th>Thigh</th>\n",
       "      <th>Knee</th>\n",
       "      <th>Forearm</th>\n",
       "    </tr>\n",
       "  </thead>\n",
       "  <tbody>\n",
       "    <tr>\n",
       "      <th>60</th>\n",
       "      <td>193.25</td>\n",
       "      <td>107.6</td>\n",
       "      <td>102.4</td>\n",
       "      <td>99.4</td>\n",
       "      <td>61.0</td>\n",
       "      <td>39.4</td>\n",
       "      <td>29.9</td>\n",
       "    </tr>\n",
       "    <tr>\n",
       "      <th>61</th>\n",
       "      <td>178.00</td>\n",
       "      <td>105.3</td>\n",
       "      <td>100.3</td>\n",
       "      <td>99.7</td>\n",
       "      <td>60.8</td>\n",
       "      <td>40.1</td>\n",
       "      <td>29.0</td>\n",
       "    </tr>\n",
       "    <tr>\n",
       "      <th>62</th>\n",
       "      <td>205.50</td>\n",
       "      <td>105.3</td>\n",
       "      <td>100.3</td>\n",
       "      <td>108.3</td>\n",
       "      <td>65.0</td>\n",
       "      <td>41.2</td>\n",
       "      <td>31.1</td>\n",
       "    </tr>\n",
       "    <tr>\n",
       "      <th>63</th>\n",
       "      <td>183.50</td>\n",
       "      <td>103.0</td>\n",
       "      <td>100.3</td>\n",
       "      <td>104.2</td>\n",
       "      <td>64.8</td>\n",
       "      <td>40.2</td>\n",
       "      <td>30.1</td>\n",
       "    </tr>\n",
       "  </tbody>\n",
       "</table>\n",
       "</div>"
      ],
      "text/plain": [
       "    Weight  Chest  Abdomen    Hip  Thigh  Knee  Forearm\n",
       "60  193.25  107.6    102.4   99.4   61.0  39.4     29.9\n",
       "61  178.00  105.3    100.3   99.7   60.8  40.1     29.0\n",
       "62  205.50  105.3    100.3  108.3   65.0  41.2     31.1\n",
       "63  183.50  103.0    100.3  104.2   64.8  40.2     30.1"
      ]
     },
     "metadata": {},
     "output_type": "display_data"
    }
   ],
   "source": [
    "display(df.iloc[[60,61,62,63,]])"
   ]
  },
  {
   "cell_type": "markdown",
   "id": "1e3217ff",
   "metadata": {},
   "source": [
    "### Using Replace()"
   ]
  },
  {
   "cell_type": "markdown",
   "id": "2eb52e5f",
   "metadata": {},
   "source": [
    "### The missing value of thigh has been replaced using replace function"
   ]
  },
  {
   "cell_type": "code",
   "execution_count": 17,
   "id": "c8260f7e",
   "metadata": {},
   "outputs": [
    {
     "data": {
      "text/html": [
       "<div>\n",
       "<style scoped>\n",
       "    .dataframe tbody tr th:only-of-type {\n",
       "        vertical-align: middle;\n",
       "    }\n",
       "\n",
       "    .dataframe tbody tr th {\n",
       "        vertical-align: top;\n",
       "    }\n",
       "\n",
       "    .dataframe thead th {\n",
       "        text-align: right;\n",
       "    }\n",
       "</style>\n",
       "<table border=\"1\" class=\"dataframe\">\n",
       "  <thead>\n",
       "    <tr style=\"text-align: right;\">\n",
       "      <th></th>\n",
       "      <th>Weight</th>\n",
       "      <th>Chest</th>\n",
       "      <th>Abdomen</th>\n",
       "      <th>Hip</th>\n",
       "      <th>Thigh</th>\n",
       "      <th>Knee</th>\n",
       "      <th>Forearm</th>\n",
       "    </tr>\n",
       "  </thead>\n",
       "  <tbody>\n",
       "    <tr>\n",
       "      <th>40</th>\n",
       "      <td>217.00</td>\n",
       "      <td>113.3</td>\n",
       "      <td>111.2</td>\n",
       "      <td>114.1</td>\n",
       "      <td>NaN</td>\n",
       "      <td>40.9</td>\n",
       "      <td>29.8</td>\n",
       "    </tr>\n",
       "    <tr>\n",
       "      <th>141</th>\n",
       "      <td>159.75</td>\n",
       "      <td>92.1</td>\n",
       "      <td>77.1</td>\n",
       "      <td>93.9</td>\n",
       "      <td>NaN</td>\n",
       "      <td>36.1</td>\n",
       "      <td>27.2</td>\n",
       "    </tr>\n",
       "  </tbody>\n",
       "</table>\n",
       "</div>"
      ],
      "text/plain": [
       "     Weight  Chest  Abdomen    Hip  Thigh  Knee  Forearm\n",
       "40   217.00  113.3    111.2  114.1    NaN  40.9     29.8\n",
       "141  159.75   92.1     77.1   93.9    NaN  36.1     27.2"
      ]
     },
     "metadata": {},
     "output_type": "display_data"
    }
   ],
   "source": [
    "display(df.iloc[[40,141]])"
   ]
  },
  {
   "cell_type": "code",
   "execution_count": 18,
   "id": "7654554f",
   "metadata": {},
   "outputs": [],
   "source": [
    "df[\"Thigh\"] = df[\"Thigh\"].replace(np.nan, value= 57)"
   ]
  },
  {
   "cell_type": "markdown",
   "id": "58bde088",
   "metadata": {},
   "source": [
    "### Verification"
   ]
  },
  {
   "cell_type": "code",
   "execution_count": 19,
   "id": "11700f2d",
   "metadata": {},
   "outputs": [
    {
     "data": {
      "text/html": [
       "<div>\n",
       "<style scoped>\n",
       "    .dataframe tbody tr th:only-of-type {\n",
       "        vertical-align: middle;\n",
       "    }\n",
       "\n",
       "    .dataframe tbody tr th {\n",
       "        vertical-align: top;\n",
       "    }\n",
       "\n",
       "    .dataframe thead th {\n",
       "        text-align: right;\n",
       "    }\n",
       "</style>\n",
       "<table border=\"1\" class=\"dataframe\">\n",
       "  <thead>\n",
       "    <tr style=\"text-align: right;\">\n",
       "      <th></th>\n",
       "      <th>Weight</th>\n",
       "      <th>Chest</th>\n",
       "      <th>Abdomen</th>\n",
       "      <th>Hip</th>\n",
       "      <th>Thigh</th>\n",
       "      <th>Knee</th>\n",
       "      <th>Forearm</th>\n",
       "    </tr>\n",
       "  </thead>\n",
       "  <tbody>\n",
       "    <tr>\n",
       "      <th>40</th>\n",
       "      <td>217.00</td>\n",
       "      <td>113.3</td>\n",
       "      <td>111.2</td>\n",
       "      <td>114.1</td>\n",
       "      <td>57.0</td>\n",
       "      <td>40.9</td>\n",
       "      <td>29.8</td>\n",
       "    </tr>\n",
       "    <tr>\n",
       "      <th>141</th>\n",
       "      <td>159.75</td>\n",
       "      <td>92.1</td>\n",
       "      <td>77.1</td>\n",
       "      <td>93.9</td>\n",
       "      <td>57.0</td>\n",
       "      <td>36.1</td>\n",
       "      <td>27.2</td>\n",
       "    </tr>\n",
       "  </tbody>\n",
       "</table>\n",
       "</div>"
      ],
      "text/plain": [
       "     Weight  Chest  Abdomen    Hip  Thigh  Knee  Forearm\n",
       "40   217.00  113.3    111.2  114.1   57.0  40.9     29.8\n",
       "141  159.75   92.1     77.1   93.9   57.0  36.1     27.2"
      ]
     },
     "metadata": {},
     "output_type": "display_data"
    }
   ],
   "source": [
    "display(df.iloc[[40,141]])"
   ]
  },
  {
   "cell_type": "markdown",
   "id": "ee58119d",
   "metadata": {},
   "source": [
    "### Filling the missing values with some statistical measures  "
   ]
  },
  {
   "cell_type": "markdown",
   "id": "1f7c2195",
   "metadata": {},
   "source": [
    "### Mean"
   ]
  },
  {
   "cell_type": "code",
   "execution_count": 20,
   "id": "ea24688a",
   "metadata": {},
   "outputs": [
    {
     "data": {
      "text/html": [
       "<div>\n",
       "<style scoped>\n",
       "    .dataframe tbody tr th:only-of-type {\n",
       "        vertical-align: middle;\n",
       "    }\n",
       "\n",
       "    .dataframe tbody tr th {\n",
       "        vertical-align: top;\n",
       "    }\n",
       "\n",
       "    .dataframe thead th {\n",
       "        text-align: right;\n",
       "    }\n",
       "</style>\n",
       "<table border=\"1\" class=\"dataframe\">\n",
       "  <thead>\n",
       "    <tr style=\"text-align: right;\">\n",
       "      <th></th>\n",
       "      <th>Weight</th>\n",
       "      <th>Chest</th>\n",
       "      <th>Abdomen</th>\n",
       "      <th>Hip</th>\n",
       "      <th>Thigh</th>\n",
       "      <th>Knee</th>\n",
       "      <th>Forearm</th>\n",
       "    </tr>\n",
       "  </thead>\n",
       "  <tbody>\n",
       "    <tr>\n",
       "      <th>69</th>\n",
       "      <td>146.75</td>\n",
       "      <td>88.5</td>\n",
       "      <td>82.8</td>\n",
       "      <td>95.5</td>\n",
       "      <td>58.9</td>\n",
       "      <td>37.6</td>\n",
       "      <td>NaN</td>\n",
       "    </tr>\n",
       "    <tr>\n",
       "      <th>70</th>\n",
       "      <td>160.75</td>\n",
       "      <td>93.6</td>\n",
       "      <td>82.9</td>\n",
       "      <td>96.3</td>\n",
       "      <td>52.9</td>\n",
       "      <td>37.5</td>\n",
       "      <td>NaN</td>\n",
       "    </tr>\n",
       "    <tr>\n",
       "      <th>71</th>\n",
       "      <td>125.00</td>\n",
       "      <td>87.7</td>\n",
       "      <td>76.0</td>\n",
       "      <td>88.6</td>\n",
       "      <td>50.9</td>\n",
       "      <td>35.4</td>\n",
       "      <td>NaN</td>\n",
       "    </tr>\n",
       "    <tr>\n",
       "      <th>249</th>\n",
       "      <td>207.50</td>\n",
       "      <td>112.4</td>\n",
       "      <td>108.5</td>\n",
       "      <td>107.1</td>\n",
       "      <td>59.3</td>\n",
       "      <td>42.2</td>\n",
       "      <td>NaN</td>\n",
       "    </tr>\n",
       "  </tbody>\n",
       "</table>\n",
       "</div>"
      ],
      "text/plain": [
       "     Weight  Chest  Abdomen    Hip  Thigh  Knee  Forearm\n",
       "69   146.75   88.5     82.8   95.5   58.9  37.6      NaN\n",
       "70   160.75   93.6     82.9   96.3   52.9  37.5      NaN\n",
       "71   125.00   87.7     76.0   88.6   50.9  35.4      NaN\n",
       "249  207.50  112.4    108.5  107.1   59.3  42.2      NaN"
      ]
     },
     "metadata": {},
     "output_type": "display_data"
    }
   ],
   "source": [
    "display(df.iloc[[69,70,71,248]])"
   ]
  },
  {
   "cell_type": "code",
   "execution_count": 21,
   "id": "1be2201d",
   "metadata": {},
   "outputs": [
    {
     "data": {
      "text/plain": [
       "69     28.674286\n",
       "70     28.674286\n",
       "71     28.674286\n",
       "249    28.674286\n",
       "Name: Forearm, dtype: float64"
      ]
     },
     "metadata": {},
     "output_type": "display_data"
    }
   ],
   "source": [
    "\n",
    "df1_mean = df[\"Forearm\"].fillna(df[\"Forearm\"].mean()).copy(deep=False)\n",
    "display(df1_mean.iloc[[69,70,71,248]])"
   ]
  },
  {
   "cell_type": "markdown",
   "id": "16e8ef10",
   "metadata": {},
   "source": [
    "### Median"
   ]
  },
  {
   "cell_type": "code",
   "execution_count": 22,
   "id": "12b0d8da",
   "metadata": {},
   "outputs": [
    {
     "data": {
      "text/plain": [
       "68    27.3\n",
       "69    28.7\n",
       "70    28.7\n",
       "71    28.7\n",
       "72    27.0\n",
       "Name: Forearm, dtype: float64"
      ]
     },
     "execution_count": 22,
     "metadata": {},
     "output_type": "execute_result"
    }
   ],
   "source": [
    "df2_med = df[\"Forearm\"].fillna(df[\"Forearm\"].median()).copy(deep=False)\n",
    "df2_med.iloc[[68,69,70,71,72]]"
   ]
  },
  {
   "cell_type": "markdown",
   "id": "e19748d5",
   "metadata": {},
   "source": [
    "###  Filling null values of Forearm column with mean values in the origial dataframe"
   ]
  },
  {
   "cell_type": "code",
   "execution_count": 23,
   "id": "ddf2723b",
   "metadata": {},
   "outputs": [
    {
     "data": {
      "text/html": [
       "<div>\n",
       "<style scoped>\n",
       "    .dataframe tbody tr th:only-of-type {\n",
       "        vertical-align: middle;\n",
       "    }\n",
       "\n",
       "    .dataframe tbody tr th {\n",
       "        vertical-align: top;\n",
       "    }\n",
       "\n",
       "    .dataframe thead th {\n",
       "        text-align: right;\n",
       "    }\n",
       "</style>\n",
       "<table border=\"1\" class=\"dataframe\">\n",
       "  <thead>\n",
       "    <tr style=\"text-align: right;\">\n",
       "      <th></th>\n",
       "      <th>Weight</th>\n",
       "      <th>Chest</th>\n",
       "      <th>Abdomen</th>\n",
       "      <th>Hip</th>\n",
       "      <th>Thigh</th>\n",
       "      <th>Knee</th>\n",
       "      <th>Forearm</th>\n",
       "    </tr>\n",
       "  </thead>\n",
       "  <tbody>\n",
       "    <tr>\n",
       "      <th>68</th>\n",
       "      <td>167.50</td>\n",
       "      <td>97.6</td>\n",
       "      <td>91.5</td>\n",
       "      <td>98.5</td>\n",
       "      <td>56.6</td>\n",
       "      <td>38.6</td>\n",
       "      <td>27.300000</td>\n",
       "    </tr>\n",
       "    <tr>\n",
       "      <th>69</th>\n",
       "      <td>146.75</td>\n",
       "      <td>88.5</td>\n",
       "      <td>82.8</td>\n",
       "      <td>95.5</td>\n",
       "      <td>58.9</td>\n",
       "      <td>37.6</td>\n",
       "      <td>28.674286</td>\n",
       "    </tr>\n",
       "    <tr>\n",
       "      <th>70</th>\n",
       "      <td>160.75</td>\n",
       "      <td>93.6</td>\n",
       "      <td>82.9</td>\n",
       "      <td>96.3</td>\n",
       "      <td>52.9</td>\n",
       "      <td>37.5</td>\n",
       "      <td>28.674286</td>\n",
       "    </tr>\n",
       "    <tr>\n",
       "      <th>71</th>\n",
       "      <td>125.00</td>\n",
       "      <td>87.7</td>\n",
       "      <td>76.0</td>\n",
       "      <td>88.6</td>\n",
       "      <td>50.9</td>\n",
       "      <td>35.4</td>\n",
       "      <td>28.674286</td>\n",
       "    </tr>\n",
       "    <tr>\n",
       "      <th>72</th>\n",
       "      <td>143.00</td>\n",
       "      <td>93.4</td>\n",
       "      <td>83.3</td>\n",
       "      <td>93.0</td>\n",
       "      <td>55.5</td>\n",
       "      <td>35.2</td>\n",
       "      <td>27.000000</td>\n",
       "    </tr>\n",
       "  </tbody>\n",
       "</table>\n",
       "</div>"
      ],
      "text/plain": [
       "    Weight  Chest  Abdomen   Hip  Thigh  Knee    Forearm\n",
       "68  167.50   97.6     91.5  98.5   56.6  38.6  27.300000\n",
       "69  146.75   88.5     82.8  95.5   58.9  37.6  28.674286\n",
       "70  160.75   93.6     82.9  96.3   52.9  37.5  28.674286\n",
       "71  125.00   87.7     76.0  88.6   50.9  35.4  28.674286\n",
       "72  143.00   93.4     83.3  93.0   55.5  35.2  27.000000"
      ]
     },
     "execution_count": 23,
     "metadata": {},
     "output_type": "execute_result"
    }
   ],
   "source": [
    "df[\"Forearm\"].fillna(df[\"Forearm\"].mean(), inplace =True)\n",
    "df.iloc[[68,69,70,71,72]]\n"
   ]
  },
  {
   "cell_type": "markdown",
   "id": "345058bf",
   "metadata": {},
   "source": [
    "### Filling null values of Forearm column with median values in the origial dataframe"
   ]
  },
  {
   "cell_type": "code",
   "execution_count": 24,
   "id": "81f2e2a2",
   "metadata": {},
   "outputs": [
    {
     "data": {
      "text/plain": [
       "Weight     168.5\n",
       "Chest       97.8\n",
       "Abdomen     92.3\n",
       "Hip          NaN\n",
       "Thigh       57.5\n",
       "Knee        36.8\n",
       "Forearm     26.0\n",
       "Name: 107, dtype: float64"
      ]
     },
     "metadata": {},
     "output_type": "display_data"
    }
   ],
   "source": [
    "display(df.iloc[107])"
   ]
  },
  {
   "cell_type": "code",
   "execution_count": 25,
   "id": "64e43f9a",
   "metadata": {},
   "outputs": [
    {
     "data": {
      "text/html": [
       "<div>\n",
       "<style scoped>\n",
       "    .dataframe tbody tr th:only-of-type {\n",
       "        vertical-align: middle;\n",
       "    }\n",
       "\n",
       "    .dataframe tbody tr th {\n",
       "        vertical-align: top;\n",
       "    }\n",
       "\n",
       "    .dataframe thead th {\n",
       "        text-align: right;\n",
       "    }\n",
       "</style>\n",
       "<table border=\"1\" class=\"dataframe\">\n",
       "  <thead>\n",
       "    <tr style=\"text-align: right;\">\n",
       "      <th></th>\n",
       "      <th>Weight</th>\n",
       "      <th>Chest</th>\n",
       "      <th>Abdomen</th>\n",
       "      <th>Hip</th>\n",
       "      <th>Thigh</th>\n",
       "      <th>Knee</th>\n",
       "      <th>Forearm</th>\n",
       "    </tr>\n",
       "  </thead>\n",
       "  <tbody>\n",
       "    <tr>\n",
       "      <th>107</th>\n",
       "      <td>168.5</td>\n",
       "      <td>97.8</td>\n",
       "      <td>92.3</td>\n",
       "      <td>99.3</td>\n",
       "      <td>57.5</td>\n",
       "      <td>36.8</td>\n",
       "      <td>26.0</td>\n",
       "    </tr>\n",
       "  </tbody>\n",
       "</table>\n",
       "</div>"
      ],
      "text/plain": [
       "     Weight  Chest  Abdomen   Hip  Thigh  Knee  Forearm\n",
       "107   168.5   97.8     92.3  99.3   57.5  36.8     26.0"
      ]
     },
     "execution_count": 25,
     "metadata": {},
     "output_type": "execute_result"
    }
   ],
   "source": [
    "df[\"Hip\"].fillna(df[\"Hip\"].median(), inplace =True)\n",
    "df.iloc[[107]]"
   ]
  },
  {
   "cell_type": "markdown",
   "id": "5a7b0678",
   "metadata": {},
   "source": [
    "### Finally our dataframe is free from null values"
   ]
  },
  {
   "cell_type": "code",
   "execution_count": 26,
   "id": "ae68cbb6",
   "metadata": {},
   "outputs": [
    {
     "data": {
      "text/html": [
       "<div>\n",
       "<style scoped>\n",
       "    .dataframe tbody tr th:only-of-type {\n",
       "        vertical-align: middle;\n",
       "    }\n",
       "\n",
       "    .dataframe tbody tr th {\n",
       "        vertical-align: top;\n",
       "    }\n",
       "\n",
       "    .dataframe thead th {\n",
       "        text-align: right;\n",
       "    }\n",
       "</style>\n",
       "<table border=\"1\" class=\"dataframe\">\n",
       "  <thead>\n",
       "    <tr style=\"text-align: right;\">\n",
       "      <th></th>\n",
       "      <th>Weight</th>\n",
       "      <th>Chest</th>\n",
       "      <th>Abdomen</th>\n",
       "      <th>Hip</th>\n",
       "      <th>Thigh</th>\n",
       "      <th>Knee</th>\n",
       "      <th>Forearm</th>\n",
       "    </tr>\n",
       "  </thead>\n",
       "  <tbody>\n",
       "  </tbody>\n",
       "</table>\n",
       "</div>"
      ],
      "text/plain": [
       "Empty DataFrame\n",
       "Columns: [Weight, Chest, Abdomen, Hip, Thigh, Knee, Forearm]\n",
       "Index: []"
      ]
     },
     "execution_count": 26,
     "metadata": {},
     "output_type": "execute_result"
    }
   ],
   "source": [
    "df[df.isnull().any(axis=1)]"
   ]
  },
  {
   "cell_type": "code",
   "execution_count": 37,
   "id": "6ce6e0cf",
   "metadata": {},
   "outputs": [
    {
     "data": {
      "text/html": [
       "<div>\n",
       "<style scoped>\n",
       "    .dataframe tbody tr th:only-of-type {\n",
       "        vertical-align: middle;\n",
       "    }\n",
       "\n",
       "    .dataframe tbody tr th {\n",
       "        vertical-align: top;\n",
       "    }\n",
       "\n",
       "    .dataframe thead th {\n",
       "        text-align: right;\n",
       "    }\n",
       "</style>\n",
       "<table border=\"1\" class=\"dataframe\">\n",
       "  <thead>\n",
       "    <tr style=\"text-align: right;\">\n",
       "      <th></th>\n",
       "      <th>Weight</th>\n",
       "      <th>Chest</th>\n",
       "      <th>Abdomen</th>\n",
       "      <th>Hip</th>\n",
       "      <th>Thigh</th>\n",
       "      <th>Knee</th>\n",
       "      <th>Forearm</th>\n",
       "    </tr>\n",
       "  </thead>\n",
       "  <tbody>\n",
       "    <tr>\n",
       "      <th>32</th>\n",
       "      <td>168.00</td>\n",
       "      <td>64.0</td>\n",
       "      <td>79.1</td>\n",
       "      <td>94.5</td>\n",
       "      <td>57.3</td>\n",
       "      <td>36.2</td>\n",
       "      <td>30.000000</td>\n",
       "    </tr>\n",
       "    <tr>\n",
       "      <th>40</th>\n",
       "      <td>217.00</td>\n",
       "      <td>113.3</td>\n",
       "      <td>111.2</td>\n",
       "      <td>114.1</td>\n",
       "      <td>57.0</td>\n",
       "      <td>40.9</td>\n",
       "      <td>29.800000</td>\n",
       "    </tr>\n",
       "    <tr>\n",
       "      <th>41</th>\n",
       "      <td>212.00</td>\n",
       "      <td>106.6</td>\n",
       "      <td>104.3</td>\n",
       "      <td>106.0</td>\n",
       "      <td>65.0</td>\n",
       "      <td>40.2</td>\n",
       "      <td>31.500000</td>\n",
       "    </tr>\n",
       "    <tr>\n",
       "      <th>61</th>\n",
       "      <td>178.00</td>\n",
       "      <td>105.3</td>\n",
       "      <td>100.3</td>\n",
       "      <td>99.7</td>\n",
       "      <td>60.8</td>\n",
       "      <td>40.1</td>\n",
       "      <td>29.000000</td>\n",
       "    </tr>\n",
       "    <tr>\n",
       "      <th>68</th>\n",
       "      <td>167.50</td>\n",
       "      <td>97.6</td>\n",
       "      <td>91.5</td>\n",
       "      <td>98.5</td>\n",
       "      <td>56.6</td>\n",
       "      <td>38.6</td>\n",
       "      <td>27.300000</td>\n",
       "    </tr>\n",
       "    <tr>\n",
       "      <th>70</th>\n",
       "      <td>160.75</td>\n",
       "      <td>93.6</td>\n",
       "      <td>82.9</td>\n",
       "      <td>96.3</td>\n",
       "      <td>52.9</td>\n",
       "      <td>37.5</td>\n",
       "      <td>28.674286</td>\n",
       "    </tr>\n",
       "    <tr>\n",
       "      <th>71</th>\n",
       "      <td>125.00</td>\n",
       "      <td>87.7</td>\n",
       "      <td>76.0</td>\n",
       "      <td>88.6</td>\n",
       "      <td>50.9</td>\n",
       "      <td>35.4</td>\n",
       "      <td>28.674286</td>\n",
       "    </tr>\n",
       "    <tr>\n",
       "      <th>107</th>\n",
       "      <td>168.50</td>\n",
       "      <td>97.8</td>\n",
       "      <td>92.3</td>\n",
       "      <td>99.3</td>\n",
       "      <td>57.5</td>\n",
       "      <td>36.8</td>\n",
       "      <td>26.000000</td>\n",
       "    </tr>\n",
       "    <tr>\n",
       "      <th>141</th>\n",
       "      <td>159.75</td>\n",
       "      <td>92.1</td>\n",
       "      <td>77.1</td>\n",
       "      <td>93.9</td>\n",
       "      <td>57.0</td>\n",
       "      <td>36.1</td>\n",
       "      <td>27.200000</td>\n",
       "    </tr>\n",
       "    <tr>\n",
       "      <th>249</th>\n",
       "      <td>207.50</td>\n",
       "      <td>112.4</td>\n",
       "      <td>108.5</td>\n",
       "      <td>107.1</td>\n",
       "      <td>59.3</td>\n",
       "      <td>42.2</td>\n",
       "      <td>28.674286</td>\n",
       "    </tr>\n",
       "  </tbody>\n",
       "</table>\n",
       "</div>"
      ],
      "text/plain": [
       "     Weight  Chest  Abdomen    Hip  Thigh  Knee    Forearm\n",
       "32   168.00   64.0     79.1   94.5   57.3  36.2  30.000000\n",
       "40   217.00  113.3    111.2  114.1   57.0  40.9  29.800000\n",
       "41   212.00  106.6    104.3  106.0   65.0  40.2  31.500000\n",
       "61   178.00  105.3    100.3   99.7   60.8  40.1  29.000000\n",
       "68   167.50   97.6     91.5   98.5   56.6  38.6  27.300000\n",
       "70   160.75   93.6     82.9   96.3   52.9  37.5  28.674286\n",
       "71   125.00   87.7     76.0   88.6   50.9  35.4  28.674286\n",
       "107  168.50   97.8     92.3   99.3   57.5  36.8  26.000000\n",
       "141  159.75   92.1     77.1   93.9   57.0  36.1  27.200000\n",
       "249  207.50  112.4    108.5  107.1   59.3  42.2  28.674286"
      ]
     },
     "execution_count": 37,
     "metadata": {},
     "output_type": "execute_result"
    }
   ],
   "source": [
    "df.iloc[[32,40,41,61,68,70,71,107,141,248]]"
   ]
  },
  {
   "cell_type": "code",
   "execution_count": 40,
   "id": "97f8960e",
   "metadata": {},
   "outputs": [
    {
     "name": "stdout",
     "output_type": "stream",
     "text": [
      "Weight     0\n",
      "Chest      0\n",
      "Abdomen    0\n",
      "Hip        0\n",
      "Thigh      0\n",
      "Knee       0\n",
      "Forearm    0\n",
      "dtype: int64\n"
     ]
    }
   ],
   "source": [
    "print(df.isnull().sum())"
   ]
  },
  {
   "cell_type": "code",
   "execution_count": 41,
   "id": "df8bf4f0",
   "metadata": {},
   "outputs": [
    {
     "name": "stdout",
     "output_type": "stream",
     "text": [
      "<class 'pandas.core.frame.DataFrame'>\n",
      "Int64Index: 249 entries, 0 to 249\n",
      "Data columns (total 7 columns):\n",
      " #   Column   Non-Null Count  Dtype  \n",
      "---  ------   --------------  -----  \n",
      " 0   Weight   249 non-null    float64\n",
      " 1   Chest    249 non-null    float64\n",
      " 2   Abdomen  249 non-null    float64\n",
      " 3   Hip      249 non-null    float64\n",
      " 4   Thigh    249 non-null    float64\n",
      " 5   Knee     249 non-null    float64\n",
      " 6   Forearm  249 non-null    float64\n",
      "dtypes: float64(7)\n",
      "memory usage: 15.6 KB\n"
     ]
    }
   ],
   "source": [
    "df.info()"
   ]
  },
  {
   "cell_type": "code",
   "execution_count": null,
   "id": "2e205430",
   "metadata": {},
   "outputs": [],
   "source": []
  }
 ],
 "metadata": {
  "kernelspec": {
   "display_name": "Python 3 (ipykernel)",
   "language": "python",
   "name": "python3"
  },
  "language_info": {
   "codemirror_mode": {
    "name": "ipython",
    "version": 3
   },
   "file_extension": ".py",
   "mimetype": "text/x-python",
   "name": "python",
   "nbconvert_exporter": "python",
   "pygments_lexer": "ipython3",
   "version": "3.9.7"
  }
 },
 "nbformat": 4,
 "nbformat_minor": 5
}
